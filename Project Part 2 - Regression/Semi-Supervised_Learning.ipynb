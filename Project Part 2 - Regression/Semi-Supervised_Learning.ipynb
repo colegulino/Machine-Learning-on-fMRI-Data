{
 "cells": [
  {
   "cell_type": "code",
   "execution_count": 1,
   "metadata": {
    "collapsed": true
   },
   "outputs": [],
   "source": [
    "# Imports\n",
    "import numpy as np\n",
    "import scipy.io as sio\n",
    "from sklearn import decomposition\n",
    "from sklearn import preprocessing\n",
    "from sklearn.pipeline import FeatureUnion\n",
    "from sklearn.feature_selection import SelectKBest, f_classif, SelectPercentile\n",
    "from sklearn import linear_model\n",
    "from sklearn import cross_validation\n",
    "from sklearn.semi_supervised import LabelSpreading\n",
    "from sklearn.semi_supervised import LabelPropagation"
   ]
  },
  {
   "cell_type": "code",
   "execution_count": null,
   "metadata": {
    "collapsed": true
   },
   "outputs": [],
   "source": [
    "'''\n",
    "Import your data \n",
    "'''\n",
    "# Load the .mat files\n",
    "events_1000 = sio.loadmat('Data/events_1000.mat')\n",
    "missIdx = sio.loadmat('Data/missIdx.mat')\n",
    "provideData_1000 = sio.loadmat('Data/provideData_1000.mat')\n",
    "provideIdx = sio.loadmat('Data/provideIdx.mat')\n",
    "trainData = sio.loadmat('Data/Train.mat')\n",
    "testData = sio.loadmat('Data/Test.mat')\n",
    "yTest = sio.loadmat('Data/Ytest.mat')\n",
    "# \n",
    "events = events_1000.get('events')\n",
    "missidx = missIdx.get('missIdx')\n",
    "provideData = provideData_1000.get('provideData')\n",
    "provideidx = provideIdx.get('provideIdx')\n",
    "\n",
    "Xtrain = trainData.get('Xtrain')\n",
    "Yt = trainData.get('Ytrain')\n",
    "Yt2 = yTest.get('Ytest')\n",
    "Xtest = testData.get('Xtest')"
   ]
  }
 ],
 "metadata": {
  "kernelspec": {
   "display_name": "Python 2",
   "language": "python",
   "name": "python2"
  },
  "language_info": {
   "codemirror_mode": {
    "name": "ipython",
    "version": 2
   },
   "file_extension": ".py",
   "mimetype": "text/x-python",
   "name": "python",
   "nbconvert_exporter": "python",
   "pygments_lexer": "ipython2",
   "version": "2.7.10"
  }
 },
 "nbformat": 4,
 "nbformat_minor": 0
}
