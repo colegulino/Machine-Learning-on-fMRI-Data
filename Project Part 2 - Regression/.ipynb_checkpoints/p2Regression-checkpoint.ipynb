{
 "cells": [
  {
   "cell_type": "code",
   "execution_count": 8,
   "metadata": {
    "collapsed": true
   },
   "outputs": [],
   "source": [
    "# Imports\n",
    "import numpy as np\n",
    "import scipy.io as sio\n",
    "from sklearn import decomposition\n",
    "from sklearn import preprocessing\n",
    "from sklearn.pipeline import FeatureUnion\n",
    "from sklearn.feature_selection import SelectKBest, f_classif, SelectPercentile\n",
    "from sklearn import linear_model\n",
    "from sklearn import cross_validation\n",
    "from sklearn.cross_decomposition import PLSRegression"
   ]
  },
  {
   "cell_type": "code",
   "execution_count": 2,
   "metadata": {
    "collapsed": true
   },
   "outputs": [],
   "source": [
    "'''\n",
    "Import your data \n",
    "'''\n",
    "# Load the .mat files\n",
    "events_1000 = sio.loadmat('Data/events_1000.mat')\n",
    "missIdx = sio.loadmat('Data/missIdx.mat')\n",
    "provideData_1000 = sio.loadmat('Data/provideData_1000.mat')\n",
    "provideIdx = sio.loadmat('Data/provideIdx.mat')\n",
    "trainData = sio.loadmat('Data/Train.mat')\n",
    "testData = sio.loadmat('Data/Test.mat')\n",
    "# \n",
    "events = events_1000.get('events')\n",
    "missidx = missIdx.get('missIdx')\n",
    "provideData = provideData_1000.get('provideData')\n",
    "provideidx = provideIdx.get('provideIdx')\n",
    "\n",
    "Xtrain = trainData.get('Xtrain')\n",
    "Ytrain = trainData.get('Ytrain')\n",
    "Xtest = testData.get('Xtest')"
   ]
  },
  {
   "cell_type": "code",
   "execution_count": 3,
   "metadata": {
    "collapsed": false
   },
   "outputs": [],
   "source": [
    "'''\n",
    "Get full training data\n",
    "'''\n",
    "# Concatenate the Xtrain and Xtest\n",
    "x = np.vstack((Xtrain, Xtest))\n",
    "Xtrain = x[:, provideidx[0,0]-1]\n",
    "Ytrain = x[:, missidx[0,0]-1]\n",
    "\n",
    "for i in xrange(1, np.shape(x)[1] + 1):\n",
    "    if( i in provideidx and i != provideidx[0,0] ):\n",
    "        Xtrain = np.vstack(( Xtrain, x[:,i-1] ))\n",
    "    elif( i in missidx and i != missidx[0,0] ):\n",
    "        Ytrain = np.vstack(( Ytrain, x[:,i-1] ))\n",
    "\n",
    "Xtrain = Xtrain.T\n",
    "Ytrain = Ytrain.T"
   ]
  },
  {
   "cell_type": "code",
   "execution_count": 4,
   "metadata": {
    "collapsed": false
   },
   "outputs": [],
   "source": [
    "'''\n",
    "Set up dimensionality reduction \n",
    "'''\n",
    "# Parameters\n",
    "comp = 453\n",
    "k_ = 180\n",
    "percentile_ = 4\n",
    "# PCA\n",
    "pca = decomposition.PCA(n_components=comp)\n",
    "# Feature selection\n",
    "selection = SelectKBest(k=k_)\n",
    "# Percentile selection\n",
    "class_stuff = SelectPercentile(f_classif, percentile=percentile_)\n",
    "# Feature Union\n",
    "combined_features = FeatureUnion([(\"pca\", pca), (\"univ_select\", selection),(\"class_stuff\",class_stuff)])"
   ]
  },
  {
   "cell_type": "code",
   "execution_count": 5,
   "metadata": {
    "collapsed": false
   },
   "outputs": [],
   "source": [
    "'''\n",
    "Reduce dimensions of Xtrain\n",
    "'''\n",
    "# Scale Xtrain\n",
    "Xtrain = preprocessing.StandardScaler(copy=True, with_mean=True, with_std=True).fit_transform(Xtrain)\n",
    "# Reduce dimensions\n",
    "Xtrain = pca.fit_transform(Xtrain)"
   ]
  },
  {
   "cell_type": "code",
   "execution_count": 6,
   "metadata": {
    "collapsed": false
   },
   "outputs": [
    {
     "name": "stdout",
     "output_type": "stream",
     "text": [
      "Linear Regression:\n",
      "-0.25480740076\n"
     ]
    }
   ],
   "source": [
    "'''\n",
    "Setup and use linear regression\n",
    "'''\n",
    "# Setup linear regression\n",
    "lr = linear_model.LinearRegression(fit_intercept=True, normalize=True)\n",
    "# Train the model using the training set\n",
    "lr.fit(Xtrain, Ytrain)\n",
    "# Print CV score\n",
    "print \"Linear Regression:\"\n",
    "print np.mean(cross_validation.cross_val_score(lr, Xtrain, Ytrain, scoring=\"mean_squared_error\", cv=10))"
   ]
  },
  {
   "cell_type": "code",
   "execution_count": 12,
   "metadata": {
    "collapsed": false
   },
   "outputs": [
    {
     "name": "stdout",
     "output_type": "stream",
     "text": [
      "PLS Regression:\n",
      "-0.240019847581\n"
     ]
    }
   ],
   "source": [
    "'''\n",
    "Setup and use the PLS Regression\n",
    "'''\n",
    "# Setup PLS Regression\n",
    "comp_ = 50\n",
    "max_iter_ = -1\n",
    "tol_ = 1e-06\n",
    "pls = PLSRegression(n_components=comp_, scale = False, max_iter=max_iter_, tol=tol_)\n",
    "# Train the model\n",
    "pls.fit(Xtrain, Ytrain)\n",
    "# Print CV score\n",
    "print \"PLS Regression:\"\n",
    "print np.mean(cross_validation.cross_val_score(pls, Xtrain, Ytrain, scoring=\"mean_squared_error\", cv=10))"
   ]
  }
 ],
 "metadata": {
  "kernelspec": {
   "display_name": "Python 2",
   "language": "python",
   "name": "python2"
  },
  "language_info": {
   "codemirror_mode": {
    "name": "ipython",
    "version": 2
   },
   "file_extension": ".py",
   "mimetype": "text/x-python",
   "name": "python",
   "nbconvert_exporter": "python",
   "pygments_lexer": "ipython2",
   "version": "2.7.10"
  }
 },
 "nbformat": 4,
 "nbformat_minor": 0
}
