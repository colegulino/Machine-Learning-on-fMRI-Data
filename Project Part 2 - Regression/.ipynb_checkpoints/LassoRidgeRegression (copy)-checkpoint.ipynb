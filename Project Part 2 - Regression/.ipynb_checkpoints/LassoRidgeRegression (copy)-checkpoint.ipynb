{
 "cells": [
  {
   "cell_type": "code",
   "execution_count": 1,
   "metadata": {
    "collapsed": true
   },
   "outputs": [],
   "source": [
    "# Imports\n",
    "import numpy as np\n",
    "import scipy.io as sio\n",
    "from sklearn import decomposition\n",
    "from sklearn import preprocessing\n",
    "from sklearn.pipeline import FeatureUnion\n",
    "from sklearn.feature_selection import SelectKBest, f_classif, SelectPercentile\n",
    "from sklearn import linear_model\n",
    "from sklearn import cross_validation\n",
    "from sklearn.cross_decomposition import PLSRegression\n",
    "from sklearn import tree"
   ]
  },
  {
   "cell_type": "code",
   "execution_count": 2,
   "metadata": {
    "collapsed": true
   },
   "outputs": [],
   "source": [
    "'''\n",
    "Import your data \n",
    "'''\n",
    "# Load the .mat files\n",
    "events_1000 = sio.loadmat('Data/events_1000.mat')\n",
    "missIdx = sio.loadmat('Data/missIdx.mat')\n",
    "provideData_1000 = sio.loadmat('Data/provideData_1000.mat')\n",
    "provideIdx = sio.loadmat('Data/provideIdx.mat')\n",
    "trainData = sio.loadmat('Data/Train.mat')\n",
    "testData = sio.loadmat('Data/Test.mat')\n",
    "yTest = sio.loadmat('Data/Ytest.mat')\n",
    "# \n",
    "events = events_1000.get('events')\n",
    "missidx = missIdx.get('missIdx')\n",
    "provideData = provideData_1000.get('provideData')\n",
    "provideidx = provideIdx.get('provideIdx')\n",
    "\n",
    "Xtrain = trainData.get('Xtrain')\n",
    "Yt = trainData.get('Ytrain')\n",
    "Yt2 = yTest.get('Ytest')\n",
    "Xtest = testData.get('Xtest')"
   ]
  },
  {
   "cell_type": "code",
   "execution_count": 3,
   "metadata": {
    "collapsed": false
   },
   "outputs": [
    {
     "name": "stdout",
     "output_type": "stream",
     "text": [
      "Xtrain:\n",
      "(1502, 3172)\n",
      "Ytrain:\n",
      "(1502, 2731)\n"
     ]
    }
   ],
   "source": [
    "'''\n",
    "Get full training data\n",
    "'''\n",
    "# Concatenate the Xtrain and Xtest\n",
    "x = np.vstack((Xtrain, Xtest))\n",
    "y = np.vstack((Yt, Yt2))\n",
    "Xtrain = x[:, provideidx[0,0]-1]\n",
    "Ytrain = x[:, missidx[0,0]-1]\n",
    "\n",
    "for i in xrange(1, np.shape(x)[1] + 1):\n",
    "    if( i in provideidx and i != provideidx[0,0] ):\n",
    "        Xtrain = np.vstack(( Xtrain, x[:,i-1] ))\n",
    "    elif( i in missidx and i != missidx[0,0] ):\n",
    "        Ytrain = np.vstack(( Ytrain, x[:,i-1] ))\n",
    "\n",
    "Xtrain = Xtrain.T\n",
    "Ytrain = Ytrain.T\n",
    "print \"Xtrain:\"\n",
    "print np.shape(Xtrain)\n",
    "print \"Ytrain:\"\n",
    "print np.shape(Ytrain)"
   ]
  },
  {
   "cell_type": "code",
   "execution_count": 4,
   "metadata": {
    "collapsed": false
   },
   "outputs": [],
   "source": [
    "'''\n",
    "Set up dimensionality reduction \n",
    "'''\n",
    "# Parameters\n",
    "comp = 800\n",
    "k_ = 850\n",
    "percentile_ = 10\n",
    "# PCA\n",
    "pca = decomposition.PCA(n_components=comp)\n",
    "# Feature selection\n",
    "def f_regression(X,Y):\n",
    "    import sklearn\n",
    "    return sklearn.feature_selection.f_regression(X,Y,center=False)\n",
    "selection = SelectKBest(k=k_, score_func=f_regression)\n",
    "# Percentile selection\n",
    "class_stuff = SelectPercentile(f_regression, percentile=percentile_)\n",
    "# Feature Union\n",
    "#combined_features = FeatureUnion([(\"pca\", pca), (\"univ_select\", selection), (\"class_stuff\", class_stuff)])\n",
    "combined_features = FeatureUnion([(\"pca\", pca), (\"univ_select\", selection)])"
   ]
  },
  {
   "cell_type": "code",
   "execution_count": 5,
   "metadata": {
    "collapsed": false
   },
   "outputs": [
    {
     "name": "stdout",
     "output_type": "stream",
     "text": [
      "(1502, 1650)\n"
     ]
    }
   ],
   "source": [
    "'''\n",
    "Reduce dimensions of Xtrain\n",
    "'''\n",
    "# Scale Xtrain\n",
    "Xscale = preprocessing.StandardScaler(copy=True, with_mean=True, with_std=True).fit_transform(Xtrain)\n",
    "# Reduce dimensions\n",
    "Xpca = combined_features.fit_transform(Xscale, np.ravel(y))\n",
    "print np.shape(Xpca)"
   ]
  },
  {
   "cell_type": "code",
   "execution_count": null,
   "metadata": {
    "collapsed": true
   },
   "outputs": [],
   "source": [
    "'''\n",
    "Setup the Lasso Regression Classifier\n",
    "'''\n",
    "# Parameters\n",
    "alpha_ = 1.25e3\n",
    "max_iter_ = -1\n",
    "# Setup the parameters for lasso regression\n",
    "lasso = linear_model.Lasso(alpha=alpha_)"
   ]
  },
  {
   "cell_type": "code",
   "execution_count": null,
   "metadata": {
    "collapsed": false
   },
   "outputs": [],
   "source": [
    "'''\n",
    "Train the classifier and compute the score\n",
    "'''\n",
    "# Train classifier\n",
    "lasso.fit(Xpca, Ytrain)\n",
    "# Compute score\n",
    "print lasso.score(Xpca, Ytrain)\n",
    "print np.mean(cross_validation.cross_val_score(lasso, Xpca, Ytrain, scoring=\"mean_squared_error\", cv=10))"
   ]
  },
  {
   "cell_type": "code",
   "execution_count": null,
   "metadata": {
    "collapsed": false
   },
   "outputs": [],
   "source": [
    "'''\n",
    "Test on the test set\n",
    "'''\n",
    "# Reduce testX\n",
    "testPCA = combined_features.transform(provideData)\n",
    "print np.shape(testPCA)\n",
    "# Predict\n",
    "yTest = lasso.predict(testPCA)\n",
    "print np.shape(yTest)"
   ]
  },
  {
   "cell_type": "code",
   "execution_count": null,
   "metadata": {
    "collapsed": true
   },
   "outputs": [],
   "source": [
    "'''\n",
    "Setup the Ridge Regression Classifier\n",
    "'''\n",
    "# Parameters\n",
    "alpha_ = 1.25e3\n",
    "max_iter_ = -1\n",
    "tol_ = 1e-6\n",
    "# Setup the parameters for lasso regression\n",
    "ridge = linear_model.Ridge(alpha=alpha_)"
   ]
  },
  {
   "cell_type": "code",
   "execution_count": null,
   "metadata": {
    "collapsed": false
   },
   "outputs": [],
   "source": [
    "'''\n",
    "Train the classifier and compute the score\n",
    "'''\n",
    "print np.shape(Xpca)\n",
    "# Train classifier\n",
    "ridge.fit(Xpca, Ytrain)\n",
    "# Comput score\n",
    "print \"Score:\"\n",
    "print ridge.score(Xpca, Ytrain)\n",
    "print \"CV:\"\n",
    "print np.mean(cross_validation.cross_val_score(ridge, Xpca, Ytrain, scoring=\"mean_squared_error\", cv=10))"
   ]
  },
  {
   "cell_type": "code",
   "execution_count": null,
   "metadata": {
    "collapsed": false
   },
   "outputs": [],
   "source": [
    "'''\n",
    "Test on the test set\n",
    "'''\n",
    "# Reduce testX\n",
    "testPCA = combined_features.transform(provideData)\n",
    "print np.shape(testPCA)\n",
    "# Predict\n",
    "yTest2 = ridge.predict(testPCA)\n",
    "print np.shape(yTest2)"
   ]
  },
  {
   "cell_type": "code",
   "execution_count": null,
   "metadata": {
    "collapsed": false
   },
   "outputs": [],
   "source": [
    "# Get average\n",
    "yFinal = yTest\n",
    "for i in xrange( 0, 1000):\n",
    "    for j in xrange(0, 2731):\n",
    "        yFinal[i][j] = (yTest[i][j] + yTest2[i][j]) / 2\n",
    "\n",
    "print np.shape(yFinal)"
   ]
  },
  {
   "cell_type": "code",
   "execution_count": null,
   "metadata": {
    "collapsed": true
   },
   "outputs": [],
   "source": [
    "'''\n",
    "Print in the CSV file\n",
    "'''\n",
    "np.savetxt('prediction.csv', yTest, delimiter=\",\",fmt='%1.4f' )"
   ]
  },
  {
   "cell_type": "code",
   "execution_count": null,
   "metadata": {
    "collapsed": true
   },
   "outputs": [],
   "source": []
  }
 ],
 "metadata": {
  "kernelspec": {
   "display_name": "Python 2",
   "language": "python",
   "name": "python2"
  },
  "language_info": {
   "codemirror_mode": {
    "name": "ipython",
    "version": 2
   },
   "file_extension": ".py",
   "mimetype": "text/x-python",
   "name": "python",
   "nbconvert_exporter": "python",
   "pygments_lexer": "ipython2",
   "version": "2.7.10"
  }
 },
 "nbformat": 4,
 "nbformat_minor": 0
}
