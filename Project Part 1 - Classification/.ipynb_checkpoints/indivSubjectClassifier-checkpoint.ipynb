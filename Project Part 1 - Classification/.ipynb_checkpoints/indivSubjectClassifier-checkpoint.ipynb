{
 "cells": [
  {
   "cell_type": "code",
   "execution_count": 1,
   "metadata": {
    "collapsed": true
   },
   "outputs": [],
   "source": [
    "# Imports\n",
    "import numpy as np\n",
    "import scipy.io as sio\n",
    "from sklearn import decomposition\n",
    "from sklearn.svm import SVC\n",
    "from sklearn import preprocessing\n",
    "from sklearn.pipeline import FeatureUnion\n",
    "from sklearn import cross_validation\n",
    "import autosklearn\n",
    "from sklearn.feature_selection import SelectKBest, f_classif, SelectPercentile\n",
    "# Import the data\n",
    "trainData = sio.loadmat('Train.mat')\n",
    "testData = sio.loadmat('Test.mat')"
   ]
  },
  {
   "cell_type": "code",
   "execution_count": 2,
   "metadata": {
    "collapsed": true
   },
   "outputs": [],
   "source": [
    "# Get the values of the train data\n",
    "Xtrain = trainData.get('Xtrain')\n",
    "Ytrain = trainData.get('Ytrain')\n",
    "eventsTrain = trainData.get('eventsTrain')\n",
    "subjectsTrain = trainData.get('subjectsTrain')\n",
    "x = trainData.get('x')\n",
    "y = trainData.get('y')\n",
    "z = trainData.get('z')\n",
    "\n",
    "# Get the values of the test data\n",
    "# Get the test data into a numpy array\n",
    "testX = testData.get('Xtest')\n",
    "eventsTest = testData.get('eventsTest')\n",
    "subjectsTest = testData.get('subjectsTest')\n",
    "testX = np.array( testX, np.float32)"
   ]
  },
  {
   "cell_type": "code",
   "execution_count": 3,
   "metadata": {
    "collapsed": false
   },
   "outputs": [],
   "source": [
    "# Set up dictionary for training and test subjects\n",
    "trainDict = {}\n",
    "testDict = {}\n",
    "for i in xrange(1, max(subjectsTrain)+1):\n",
    "    trainDict[i] = []\n",
    "    testDict[i] = []"
   ]
  },
  {
   "cell_type": "code",
   "execution_count": 4,
   "metadata": {
    "collapsed": false
   },
   "outputs": [],
   "source": [
    "# Get all the indices for each subject\n",
    "# Training subjects first\n",
    "for i in xrange(0, len(subjectsTrain)):\n",
    "    value = int(subjectsTrain[i])\n",
    "    trainDict[value].append(i)\n",
    "\n",
    "# Now test subjects\n",
    "for i in xrange(0, len(subjectsTest)):\n",
    "    value = int(subjectsTest[i])\n",
    "    testDict[value].append(i)"
   ]
  },
  {
   "cell_type": "code",
   "execution_count": 5,
   "metadata": {
    "collapsed": false
   },
   "outputs": [],
   "source": [
    "# Set up the feature transforms\n",
    "# Use PCA to reduce the dimensionality\n",
    "comp = 453 # number of components\n",
    "cw = {}\n",
    "cw[1] = 1\n",
    "cw[0] = 1\n",
    "cw[3] = 1\n",
    "pca = decomposition.PCA(n_components=comp)\n",
    "\n",
    "selection = SelectKBest(k=180)\n",
    "class_stuff = SelectPercentile(f_classif, percentile = 10)\n",
    "combined_features = FeatureUnion([(\"pca\", pca), (\"univ_select\", selection),(\"class_stuff\",class_stuff)])\n",
    "\n",
    "Xscale = preprocessing.StandardScaler(copy=True, with_mean=True, with_std=True).fit_transform(Xtrain)\n",
    "Xpca = combined_features.fit(Xtrain, np.ravel(Ytrain)).transform(Xtrain)"
   ]
  },
  {
   "cell_type": "code",
   "execution_count": 6,
   "metadata": {
    "collapsed": false
   },
   "outputs": [],
   "source": [
    "# Set up the classifier dictionary\n",
    "classDict = {}\n",
    "for i in xrange(1, max(subjectsTrain)+1):\n",
    "    classDict[i]= SVC(C = 100, cache_size=200, coef0=0.0, gamma = 0.0001,\n",
    "          degree=3, kernel='rbf', max_iter=-1, class_weight  = cw,\n",
    "          probability=True,random_state=None, shrinking=True, \n",
    "          tol=0.0001, verbose=False)"
   ]
  },
  {
   "cell_type": "code",
   "execution_count": 7,
   "metadata": {
    "collapsed": false
   },
   "outputs": [],
   "source": [
    "# Get the values for each subject, concatenate to the\n",
    "# numpy array\n",
    "# Train each of the classifiers\n",
    "for i in xrange(1, max(subjectsTrain)+1):\n",
    "    # Do for each subject\n",
    "    X = np.array()\n",
    "    Y = np.array()\n",
    "    for k in xrange(0, 5):\n",
    "        for index in trainDict[i]: \n",
    "            # Loop over each indices in the array at dict \n",
    "            # key i\n",
    "            X = np.vstack((X, Xpca[index,:]))\n",
    "            Y = np.vstack((Y, Ytrain[index,:]))\n",
    "    classDict[i].fit(X, np.ravel(Y))"
   ]
  },
  {
   "cell_type": "code",
   "execution_count": 8,
   "metadata": {
    "collapsed": false
   },
   "outputs": [],
   "source": [
    "# Scale and feature select the test data\n",
    "testX = preprocessing.StandardScaler(copy=True, with_mean=True, with_std=True).fit_transform(testX)\n",
    "testNew =  combined_features.transform(testX)\n",
    "testY = np.zeros(1001)"
   ]
  },
  {
   "cell_type": "code",
   "execution_count": 9,
   "metadata": {
    "collapsed": false
   },
   "outputs": [],
   "source": [
    "# Get the test vectors and then test each one\n",
    "for i in xrange(1, max(subjectsTest)+1):\n",
    "    # Set up the numpy arrays\n",
    "    Y = []\n",
    "    Y = np.array(Y, np.float32)\n",
    "    X = testNew\n",
    "    # Get the test data from each subject\n",
    "    for index in testDict[i]:\n",
    "        X = np.vstack((X, testNew[index,:]))\n",
    "    X = X[len(X)-len(testDict[i]):,:]\n",
    "    # Now test on the classifiers if not zero\n",
    "    if( len(testDict[i]) != 0):\n",
    "        Y = classDict[i].predict(X)\n",
    "        # Put in the right index of testY\n",
    "        for j in xrange(0, len(testDict[i])):\n",
    "            testY[testDict[i][j]] = Y[j] "
   ]
  },
  {
   "cell_type": "code",
   "execution_count": null,
   "metadata": {
    "collapsed": false
   },
   "outputs": [],
   "source": [
    "print testY"
   ]
  },
  {
   "cell_type": "code",
   "execution_count": null,
   "metadata": {
    "collapsed": true
   },
   "outputs": [],
   "source": [
    "# Get the probabilities\n",
    "new = np.zeros((1001,3))\n",
    "for i in xrange(0, 1001):\n",
    "    if( testY[i] == 0 ):\n",
    "        new[i,:] = [1.0000, 0.0000, 0.0000]\n",
    "    elif( testY[i] == 1 ):\n",
    "        new[i,:] = [0.0000, 1.0000, 0.0000]\n",
    "    else:\n",
    "        new[i,:] = [0.0000, 0.0000, 1.0000]"
   ]
  },
  {
   "cell_type": "code",
   "execution_count": null,
   "metadata": {
    "collapsed": true
   },
   "outputs": [],
   "source": [
    "# Put into CSV file\n",
    "np.savetxt('prediction.csv', new, delimiter=\",\")"
   ]
  },
  {
   "cell_type": "code",
   "execution_count": null,
   "metadata": {
    "collapsed": true
   },
   "outputs": [],
   "source": []
  }
 ],
 "metadata": {
  "kernelspec": {
   "display_name": "Python 2",
   "language": "python",
   "name": "python2"
  },
  "language_info": {
   "codemirror_mode": {
    "name": "ipython",
    "version": 2
   },
   "file_extension": ".py",
   "mimetype": "text/x-python",
   "name": "python",
   "nbconvert_exporter": "python",
   "pygments_lexer": "ipython2",
   "version": "2.7.10"
  }
 },
 "nbformat": 4,
 "nbformat_minor": 0
}
