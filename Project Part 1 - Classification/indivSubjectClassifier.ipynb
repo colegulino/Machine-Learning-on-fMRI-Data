{
 "cells": [
  {
   "cell_type": "code",
   "execution_count": 1,
   "metadata": {
    "collapsed": true
   },
   "outputs": [],
   "source": [
    "# Imports\n",
    "import numpy as np\n",
    "import scipy.io as sio\n",
    "from sklearn import decomposition\n",
    "from sklearn.svm import SVC\n",
    "from sklearn import preprocessing\n",
    "from sklearn.pipeline import FeatureUnion\n",
    "from sklearn import cross_validation\n",
    "import autosklearn\n",
    "from sklearn.feature_selection import SelectKBest, f_classif, SelectPercentile\n",
    "# Import the data\n",
    "trainData = sio.loadmat('Train.mat')\n",
    "testData = sio.loadmat('Test.mat')"
   ]
  },
  {
   "cell_type": "code",
   "execution_count": 2,
   "metadata": {
    "collapsed": true
   },
   "outputs": [],
   "source": [
    "# Get the values of the train data\n",
    "Xtrain = trainData.get('Xtrain')\n",
    "Ytrain = trainData.get('Ytrain')\n",
    "eventsTrain = trainData.get('eventsTrain')\n",
    "subjectsTrain = trainData.get('subjectsTrain')\n",
    "x = trainData.get('x')\n",
    "y = trainData.get('y')\n",
    "z = trainData.get('z')\n",
    "\n",
    "# Get the values of the test data\n",
    "# Get the test data into a numpy array\n",
    "testX = testData.get('Xtest')\n",
    "eventsTest = testData.get('eventsTest')\n",
    "subjectsTest = testData.get('subjectsTest')\n",
    "testX = np.array( testX, np.float32)"
   ]
  },
  {
   "cell_type": "code",
   "execution_count": 3,
   "metadata": {
    "collapsed": false
   },
   "outputs": [],
   "source": [
    "# Set up dictionary for training and test subjects\n",
    "trainDict = {}\n",
    "testDict = {}\n",
    "for i in xrange(1, max(subjectsTrain)+1):\n",
    "    trainDict[i] = []\n",
    "    testDict[i] = []"
   ]
  },
  {
   "cell_type": "code",
   "execution_count": 4,
   "metadata": {
    "collapsed": false
   },
   "outputs": [],
   "source": [
    "# Get all the indices for each subject\n",
    "# Training subjects first\n",
    "for i in xrange(0, len(subjectsTrain)):\n",
    "    value = int(subjectsTrain[i])\n",
    "    trainDict[value].append(i)\n",
    "\n",
    "# Now test subjects\n",
    "for i in xrange(0, len(subjectsTest)):\n",
    "    value = int(subjectsTest[i])\n",
    "    testDict[value].append(i)"
   ]
  },
  {
   "cell_type": "code",
   "execution_count": 9,
   "metadata": {
    "collapsed": false
   },
   "outputs": [
    {
     "name": "stdout",
     "output_type": "stream",
     "text": [
      "(501, 1224)\n"
     ]
    }
   ],
   "source": [
    "# Set up the feature transforms\n",
    "# Use PCA to reduce the dimensionality\n",
    "comp = 453 # number of components\n",
    "cw = {}\n",
    "cw[1] = 1\n",
    "cw[0] = 1\n",
    "cw[3] = 1\n",
    "pca = decomposition.PCA(n_components=comp)\n",
    "\n",
    "selection = SelectKBest(k=180)\n",
    "class_stuff = SelectPercentile(f_classif, percentile = 10)\n",
    "combined_features = FeatureUnion([(\"pca\", pca), (\"univ_select\", selection),(\"class_stuff\",class_stuff)])\n",
    "\n",
    "Xscale = preprocessing.StandardScaler(copy=True, with_mean=True, with_std=True).fit_transform(Xtrain)\n",
    "Xpca = combined_features.fit(Xtrain, np.ravel(Ytrain)).transform(Xtrain)\n",
    "print np.shape(Xpca)"
   ]
  },
  {
   "cell_type": "code",
   "execution_count": 6,
   "metadata": {
    "collapsed": false
   },
   "outputs": [],
   "source": [
    "# Set up the classifier dictionary\n",
    "classDict = {}\n",
    "for i in xrange(1, max(subjectsTrain)+1):\n",
    "    classDict[i]= SVC(C = 100, cache_size=200, coef0=0.0, gamma = 0.0001,\n",
    "          degree=3, kernel='rbf', max_iter=-1, class_weight  = cw,\n",
    "          probability=True,random_state=None, shrinking=True, \n",
    "          tol=0.0001, verbose=False)"
   ]
  },
  {
   "cell_type": "code",
   "execution_count": 16,
   "metadata": {
    "collapsed": false
   },
   "outputs": [
    {
     "name": "stdout",
     "output_type": "stream",
     "text": [
      "(115, 1224)\n",
      "(115, 1)\n",
      "(85, 1224)\n",
      "(85, 1)\n",
      "(95, 1224)\n",
      "(95, 1)\n",
      "(70, 1224)\n",
      "(70, 1)\n",
      "(0, 1224)\n",
      "(0, 1)\n",
      "(110, 1224)\n",
      "(110, 1)\n",
      "(85, 1224)\n",
      "(85, 1)\n",
      "(60, 1224)\n",
      "(60, 1)\n",
      "(75, 1224)\n",
      "(75, 1)\n",
      "(130, 1224)\n",
      "(130, 1)\n",
      "(60, 1224)\n",
      "(60, 1)\n",
      "(110, 1224)\n",
      "(110, 1)\n",
      "(110, 1224)\n",
      "(110, 1)\n",
      "(70, 1224)\n",
      "(70, 1)\n",
      "(115, 1224)\n",
      "(115, 1)\n",
      "(95, 1224)\n",
      "(95, 1)\n",
      "(125, 1224)\n",
      "(125, 1)\n",
      "(100, 1224)\n",
      "(100, 1)\n",
      "(90, 1224)\n",
      "(90, 1)\n",
      "(125, 1224)\n",
      "(125, 1)\n",
      "(100, 1224)\n",
      "(100, 1)\n",
      "(70, 1224)\n",
      "(70, 1)\n"
     ]
    },
    {
     "ename": "ValueError",
     "evalue": "Class label 0 not present.",
     "output_type": "error",
     "traceback": [
      "\u001b[1;31m---------------------------------------------------------------------------\u001b[0m",
      "\u001b[1;31mValueError\u001b[0m                                Traceback (most recent call last)",
      "\u001b[1;32m<ipython-input-16-1ebbad15ed2f>\u001b[0m in \u001b[0;36m<module>\u001b[1;34m()\u001b[0m\n\u001b[0;32m     15\u001b[0m     \u001b[1;32mprint\u001b[0m \u001b[0mnp\u001b[0m\u001b[1;33m.\u001b[0m\u001b[0mshape\u001b[0m\u001b[1;33m(\u001b[0m\u001b[0mY\u001b[0m\u001b[1;33m[\u001b[0m\u001b[0mlen\u001b[0m\u001b[1;33m(\u001b[0m\u001b[0mYtrain\u001b[0m\u001b[1;33m)\u001b[0m\u001b[1;33m:\u001b[0m\u001b[1;33m,\u001b[0m\u001b[1;33m:\u001b[0m\u001b[1;33m]\u001b[0m\u001b[1;33m)\u001b[0m\u001b[1;33m\u001b[0m\u001b[0m\n\u001b[0;32m     16\u001b[0m     \u001b[1;32mif\u001b[0m\u001b[1;33m(\u001b[0m \u001b[0mlen\u001b[0m\u001b[1;33m(\u001b[0m\u001b[0mtrainDict\u001b[0m\u001b[1;33m[\u001b[0m\u001b[0mi\u001b[0m\u001b[1;33m]\u001b[0m\u001b[1;33m)\u001b[0m \u001b[1;33m!=\u001b[0m \u001b[1;36m0\u001b[0m\u001b[1;33m)\u001b[0m\u001b[1;33m:\u001b[0m\u001b[1;33m\u001b[0m\u001b[0m\n\u001b[1;32m---> 17\u001b[1;33m         \u001b[0mclassDict\u001b[0m\u001b[1;33m[\u001b[0m\u001b[0mi\u001b[0m\u001b[1;33m]\u001b[0m\u001b[1;33m.\u001b[0m\u001b[0mfit\u001b[0m\u001b[1;33m(\u001b[0m\u001b[0mX\u001b[0m\u001b[1;33m[\u001b[0m\u001b[0mlen\u001b[0m\u001b[1;33m(\u001b[0m\u001b[0mXpca\u001b[0m\u001b[1;33m)\u001b[0m\u001b[1;33m:\u001b[0m\u001b[1;33m,\u001b[0m\u001b[1;33m:\u001b[0m\u001b[1;33m]\u001b[0m\u001b[1;33m,\u001b[0m \u001b[0mnp\u001b[0m\u001b[1;33m.\u001b[0m\u001b[0mravel\u001b[0m\u001b[1;33m(\u001b[0m\u001b[0mY\u001b[0m\u001b[1;33m[\u001b[0m\u001b[0mlen\u001b[0m\u001b[1;33m(\u001b[0m\u001b[0mYtrain\u001b[0m\u001b[1;33m)\u001b[0m\u001b[1;33m:\u001b[0m\u001b[1;33m,\u001b[0m\u001b[1;33m:\u001b[0m\u001b[1;33m]\u001b[0m\u001b[1;33m)\u001b[0m\u001b[1;33m)\u001b[0m\u001b[1;33m\u001b[0m\u001b[0m\n\u001b[0m",
      "\u001b[1;32m/home/cole/anaconda2/lib/python2.7/site-packages/sklearn/svm/base.pyc\u001b[0m in \u001b[0;36mfit\u001b[1;34m(self, X, y, sample_weight)\u001b[0m\n\u001b[0;32m    138\u001b[0m \u001b[1;33m\u001b[0m\u001b[0m\n\u001b[0;32m    139\u001b[0m         \u001b[0mX\u001b[0m \u001b[1;33m=\u001b[0m \u001b[0mcheck_array\u001b[0m\u001b[1;33m(\u001b[0m\u001b[0mX\u001b[0m\u001b[1;33m,\u001b[0m \u001b[0maccept_sparse\u001b[0m\u001b[1;33m=\u001b[0m\u001b[1;34m'csr'\u001b[0m\u001b[1;33m,\u001b[0m \u001b[0mdtype\u001b[0m\u001b[1;33m=\u001b[0m\u001b[0mnp\u001b[0m\u001b[1;33m.\u001b[0m\u001b[0mfloat64\u001b[0m\u001b[1;33m,\u001b[0m \u001b[0morder\u001b[0m\u001b[1;33m=\u001b[0m\u001b[1;34m'C'\u001b[0m\u001b[1;33m)\u001b[0m\u001b[1;33m\u001b[0m\u001b[0m\n\u001b[1;32m--> 140\u001b[1;33m         \u001b[0my\u001b[0m \u001b[1;33m=\u001b[0m \u001b[0mself\u001b[0m\u001b[1;33m.\u001b[0m\u001b[0m_validate_targets\u001b[0m\u001b[1;33m(\u001b[0m\u001b[0my\u001b[0m\u001b[1;33m)\u001b[0m\u001b[1;33m\u001b[0m\u001b[0m\n\u001b[0m\u001b[0;32m    141\u001b[0m \u001b[1;33m\u001b[0m\u001b[0m\n\u001b[0;32m    142\u001b[0m         sample_weight = np.asarray([]\n",
      "\u001b[1;32m/home/cole/anaconda2/lib/python2.7/site-packages/sklearn/svm/base.pyc\u001b[0m in \u001b[0;36m_validate_targets\u001b[1;34m(self, y)\u001b[0m\n\u001b[0;32m    472\u001b[0m         \u001b[0my_\u001b[0m \u001b[1;33m=\u001b[0m \u001b[0mcolumn_or_1d\u001b[0m\u001b[1;33m(\u001b[0m\u001b[0my\u001b[0m\u001b[1;33m,\u001b[0m \u001b[0mwarn\u001b[0m\u001b[1;33m=\u001b[0m\u001b[0mTrue\u001b[0m\u001b[1;33m)\u001b[0m\u001b[1;33m\u001b[0m\u001b[0m\n\u001b[0;32m    473\u001b[0m         \u001b[0mcls\u001b[0m\u001b[1;33m,\u001b[0m \u001b[0my\u001b[0m \u001b[1;33m=\u001b[0m \u001b[0mnp\u001b[0m\u001b[1;33m.\u001b[0m\u001b[0munique\u001b[0m\u001b[1;33m(\u001b[0m\u001b[0my_\u001b[0m\u001b[1;33m,\u001b[0m \u001b[0mreturn_inverse\u001b[0m\u001b[1;33m=\u001b[0m\u001b[0mTrue\u001b[0m\u001b[1;33m)\u001b[0m\u001b[1;33m\u001b[0m\u001b[0m\n\u001b[1;32m--> 474\u001b[1;33m         \u001b[0mself\u001b[0m\u001b[1;33m.\u001b[0m\u001b[0mclass_weight_\u001b[0m \u001b[1;33m=\u001b[0m \u001b[0mcompute_class_weight\u001b[0m\u001b[1;33m(\u001b[0m\u001b[0mself\u001b[0m\u001b[1;33m.\u001b[0m\u001b[0mclass_weight\u001b[0m\u001b[1;33m,\u001b[0m \u001b[0mcls\u001b[0m\u001b[1;33m,\u001b[0m \u001b[0my_\u001b[0m\u001b[1;33m)\u001b[0m\u001b[1;33m\u001b[0m\u001b[0m\n\u001b[0m\u001b[0;32m    475\u001b[0m         \u001b[1;32mif\u001b[0m \u001b[0mlen\u001b[0m\u001b[1;33m(\u001b[0m\u001b[0mcls\u001b[0m\u001b[1;33m)\u001b[0m \u001b[1;33m<\u001b[0m \u001b[1;36m2\u001b[0m\u001b[1;33m:\u001b[0m\u001b[1;33m\u001b[0m\u001b[0m\n\u001b[0;32m    476\u001b[0m             raise ValueError(\n",
      "\u001b[1;32m/home/cole/anaconda2/lib/python2.7/site-packages/sklearn/utils/class_weight.pyc\u001b[0m in \u001b[0;36mcompute_class_weight\u001b[1;34m(class_weight, classes, y)\u001b[0m\n\u001b[0;32m     59\u001b[0m             \u001b[0mi\u001b[0m \u001b[1;33m=\u001b[0m \u001b[0mnp\u001b[0m\u001b[1;33m.\u001b[0m\u001b[0msearchsorted\u001b[0m\u001b[1;33m(\u001b[0m\u001b[0mclasses\u001b[0m\u001b[1;33m,\u001b[0m \u001b[0mc\u001b[0m\u001b[1;33m)\u001b[0m\u001b[1;33m\u001b[0m\u001b[0m\n\u001b[0;32m     60\u001b[0m             \u001b[1;32mif\u001b[0m \u001b[0mclasses\u001b[0m\u001b[1;33m[\u001b[0m\u001b[0mi\u001b[0m\u001b[1;33m]\u001b[0m \u001b[1;33m!=\u001b[0m \u001b[0mc\u001b[0m\u001b[1;33m:\u001b[0m\u001b[1;33m\u001b[0m\u001b[0m\n\u001b[1;32m---> 61\u001b[1;33m                 \u001b[1;32mraise\u001b[0m \u001b[0mValueError\u001b[0m\u001b[1;33m(\u001b[0m\u001b[1;34m\"Class label %d not present.\"\u001b[0m \u001b[1;33m%\u001b[0m \u001b[0mc\u001b[0m\u001b[1;33m)\u001b[0m\u001b[1;33m\u001b[0m\u001b[0m\n\u001b[0m\u001b[0;32m     62\u001b[0m             \u001b[1;32melse\u001b[0m\u001b[1;33m:\u001b[0m\u001b[1;33m\u001b[0m\u001b[0m\n\u001b[0;32m     63\u001b[0m                 \u001b[0mweight\u001b[0m\u001b[1;33m[\u001b[0m\u001b[0mi\u001b[0m\u001b[1;33m]\u001b[0m \u001b[1;33m=\u001b[0m \u001b[0mclass_weight\u001b[0m\u001b[1;33m[\u001b[0m\u001b[0mc\u001b[0m\u001b[1;33m]\u001b[0m\u001b[1;33m\u001b[0m\u001b[0m\n",
      "\u001b[1;31mValueError\u001b[0m: Class label 0 not present."
     ]
    }
   ],
   "source": [
    "# Get the values for each subject, concatenate to the\n",
    "# numpy array\n",
    "# Train each of the classifiers\n",
    "for i in xrange(1, max(subjectsTrain)+1):\n",
    "    # Do for each subject\n",
    "    X = Xpca\n",
    "    Y = Ytrain\n",
    "    for k in xrange(0, 5):\n",
    "        for index in trainDict[i]: \n",
    "            # Loop over each indices in the array at dict \n",
    "            # key i\n",
    "            X = np.vstack((X, Xpca[index,:]))\n",
    "            Y = np.vstack((Y, Ytrain[index,:]))\n",
    "    print np.shape(X[len(Xpca):,:])\n",
    "    print np.shape(Y[len(Ytrain):,:])\n",
    "    if( len(trainDict[i]) != 0):\n",
    "        classDict[i].fit(X[len(Xpca):,:], np.ravel(Y[len(Ytrain):,:]))"
   ]
  },
  {
   "cell_type": "code",
   "execution_count": null,
   "metadata": {
    "collapsed": false
   },
   "outputs": [],
   "source": [
    "# Scale and feature select the test data\n",
    "testX = preprocessing.StandardScaler(copy=True, with_mean=True, with_std=True).fit_transform(testX)\n",
    "testNew =  combined_features.transform(testX)\n",
    "testY = np.zeros(1001)"
   ]
  },
  {
   "cell_type": "code",
   "execution_count": null,
   "metadata": {
    "collapsed": false
   },
   "outputs": [],
   "source": [
    "# Get the test vectors and then test each one\n",
    "for i in xrange(1, max(subjectsTest)+1):\n",
    "    # Set up the numpy arrays\n",
    "    Y = []\n",
    "    Y = np.array(Y, np.float32)\n",
    "    X = testNew\n",
    "    # Get the test data from each subject\n",
    "    for index in testDict[i]:\n",
    "        X = np.vstack((X, testNew[index,:]))\n",
    "    X = X[len(X)-len(testDict[i]):,:]\n",
    "    # Now test on the classifiers if not zero\n",
    "    if( len(testDict[i]) != 0):\n",
    "        Y = classDict[i].predict(X)\n",
    "        # Put in the right index of testY\n",
    "        for j in xrange(0, len(testDict[i])):\n",
    "            testY[testDict[i][j]] = Y[j] "
   ]
  },
  {
   "cell_type": "code",
   "execution_count": null,
   "metadata": {
    "collapsed": false
   },
   "outputs": [],
   "source": [
    "print testY"
   ]
  },
  {
   "cell_type": "code",
   "execution_count": null,
   "metadata": {
    "collapsed": true
   },
   "outputs": [],
   "source": [
    "# Get the probabilities\n",
    "new = np.zeros((1001,3))\n",
    "for i in xrange(0, 1001):\n",
    "    if( testY[i] == 0 ):\n",
    "        new[i,:] = [1.0000, 0.0000, 0.0000]\n",
    "    elif( testY[i] == 1 ):\n",
    "        new[i,:] = [0.0000, 1.0000, 0.0000]\n",
    "    else:\n",
    "        new[i,:] = [0.0000, 0.0000, 1.0000]"
   ]
  },
  {
   "cell_type": "code",
   "execution_count": null,
   "metadata": {
    "collapsed": true
   },
   "outputs": [],
   "source": [
    "# Put into CSV file\n",
    "np.savetxt('prediction.csv', new, delimiter=\",\")"
   ]
  },
  {
   "cell_type": "code",
   "execution_count": null,
   "metadata": {
    "collapsed": true
   },
   "outputs": [],
   "source": []
  }
 ],
 "metadata": {
  "kernelspec": {
   "display_name": "Python 2",
   "language": "python",
   "name": "python2"
  },
  "language_info": {
   "codemirror_mode": {
    "name": "ipython",
    "version": 2
   },
   "file_extension": ".py",
   "mimetype": "text/x-python",
   "name": "python",
   "nbconvert_exporter": "python",
   "pygments_lexer": "ipython2",
   "version": "2.7.10"
  }
 },
 "nbformat": 4,
 "nbformat_minor": 0
}
