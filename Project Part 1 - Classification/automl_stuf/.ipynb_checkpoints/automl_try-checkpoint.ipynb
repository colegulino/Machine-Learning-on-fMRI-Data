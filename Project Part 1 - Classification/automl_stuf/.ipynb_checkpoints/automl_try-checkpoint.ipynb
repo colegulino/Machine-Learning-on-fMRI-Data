{
 "cells": [
  {
   "cell_type": "code",
   "execution_count": 1,
   "metadata": {
    "collapsed": true
   },
   "outputs": [],
   "source": [
    "# Imports\n",
    "import numpy as np\n",
    "import scipy.io as sio\n",
    "from sklearn import decomposition\n",
    "from sklearn.svm import SVC\n",
    "from sklearn import preprocessing\n",
    "from sklearn.pipeline import FeatureUnion\n",
    "from sklearn import cross_validation\n",
    "import autosklearn\n",
    "from sklearn.feature_selection import f_classif, SelectPercentile"
   ]
  },
  {
   "cell_type": "code",
   "execution_count": 2,
   "metadata": {
    "collapsed": true
   },
   "outputs": [],
   "source": [
    "# Import the data\n",
    "trainData = sio.loadmat('Train.mat')\n",
    "testData = sio.loadmat('Test.mat')\n",
    "\n",
    "# Get the values of the train data\n",
    "X = trainData.get('Xtrain')\n",
    "Y = trainData.get('Ytrain')"
   ]
  },
  {
   "cell_type": "code",
   "execution_count": 3,
   "metadata": {
    "collapsed": false
   },
   "outputs": [
    {
     "name": "stdout",
     "output_type": "stream",
     "text": [
      "(334, 5903)\n",
      "(334, 1)\n",
      "(167, 5903)\n",
      "(167, 1)\n"
     ]
    }
   ],
   "source": [
    "# Shuffle Data\n",
    "indices = np.arange(X.shape[0])\n",
    "np.random.shuffle(indices)\n",
    "X = X[indices]\n",
    "Y = Y[indices]\n",
    "X_train = X[:334,:]\n",
    "Y_train = Y[:334,:]\n",
    "X_test = X[334:,:]\n",
    "Y_test = Y[334:,:]\n",
    "\n",
    "print np.shape(X_train)\n",
    "print np.shape(Y_train)\n",
    "print np.shape(X_test)\n",
    "print np.shape(Y_test)"
   ]
  },
  {
   "cell_type": "code",
   "execution_count": 4,
   "metadata": {
    "collapsed": true
   },
   "outputs": [],
   "source": [
    "# Set up classifier\n",
    "automl = autosklearn.AutoSklearnClassifier()"
   ]
  },
  {
   "cell_type": "code",
   "execution_count": 5,
   "metadata": {
    "collapsed": false
   },
   "outputs": [
    {
     "name": "stdout",
     "output_type": "stream",
     "text": [
      "[INFO] [2015-11-23 23:07:03,464:AutoML(1):b04e416cec329c1940a3dac4c8242383] Start calculating metafeatures for b04e416cec329c1940a3dac4c8242383\n",
      "[INFO] [2015-11-23 23:07:03,495:AutoML(1):b04e416cec329c1940a3dac4c8242383] Calculating Metafeatures (categorical attributes) took  0.03\n",
      "[INFO] [2015-11-23 23:07:05,395:AutoML(1):b04e416cec329c1940a3dac4c8242383] Calculating Metafeatures (encoded attributes) took  1.90sec\n",
      "[INFO] [2015-11-23 23:07:06,238:AutoML(1):b04e416cec329c1940a3dac4c8242383] Time left for b04e416cec329c1940a3dac4c8242383 after finding initial configurations: 3595.15sec\n",
      "[INFO] [2015-11-23 23:07:06,239:autosklearn.util.smac] Start SMAC with 3595.15sec time left\n",
      "[INFO] [2015-11-23 23:07:06,240:autosklearn.util.smac] Calling: smac --numRun 1 --scenario /tmp/autosklearn_tmp_23988_2557/b04e416cec329c1940a3dac4c8242383.scenario --num-ei-random 1000 --num-challengers 100 --initial-incumbent DEFAULT --retryTargetAlgorithmRunCount 0 --intensification-percentage 0.5 --validation false --initial-challengers \" -balancing:strategy 'weighting' -classifier:__choice__ 'gradient_boosting' -classifier:gradient_boosting:learning_rate '0.105958506417' -classifier:gradient_boosting:loss 'deviance' -classifier:gradient_boosting:max_depth '6' -classifier:gradient_boosting:max_features '4.07304776507' -classifier:gradient_boosting:max_leaf_nodes 'None' -classifier:gradient_boosting:min_samples_leaf '4' -classifier:gradient_boosting:min_samples_split '14' -classifier:gradient_boosting:min_weight_fraction_leaf '0.0' -classifier:gradient_boosting:n_estimators '100' -classifier:gradient_boosting:subsample '0.373000356238' -imputation:strategy 'mean' -one_hot_encoding:minimum_fraction '0.00073114045769' -one_hot_encoding:use_minimum_fraction 'True' -preprocessor:__choice__ 'extra_trees_preproc_for_classification' -preprocessor:extra_trees_preproc_for_classification:bootstrap 'True' -preprocessor:extra_trees_preproc_for_classification:criterion 'entropy' -preprocessor:extra_trees_preproc_for_classification:max_depth 'None' -preprocessor:extra_trees_preproc_for_classification:max_features '1.77640181258' -preprocessor:extra_trees_preproc_for_classification:min_samples_leaf '4' -preprocessor:extra_trees_preproc_for_classification:min_samples_split '4' -preprocessor:extra_trees_preproc_for_classification:min_weight_fraction_leaf '0.0' -preprocessor:extra_trees_preproc_for_classification:n_estimators '100' -rescaling:__choice__ 'standardize'\" --initial-challengers \" -balancing:strategy 'weighting' -classifier:__choice__ 'liblinear_svc' -classifier:liblinear_svc:C '0.488918567217' -classifier:liblinear_svc:dual 'False' -classifier:liblinear_svc:fit_intercept 'True' -classifier:liblinear_svc:intercept_scaling '1' -classifier:liblinear_svc:loss 'squared_hinge' -classifier:liblinear_svc:multi_class 'ovr' -classifier:liblinear_svc:penalty 'l2' -classifier:liblinear_svc:tol '1.07089075921e-05' -imputation:strategy 'median' -one_hot_encoding:use_minimum_fraction 'False' -preprocessor:__choice__ 'select_percentile_classification' -preprocessor:select_percentile_classification:percentile '68.3186897905' -preprocessor:select_percentile_classification:score_func 'chi2' -rescaling:__choice__ 'normalize'\" --initial-challengers \" -balancing:strategy 'weighting' -classifier:__choice__ 'sgd' -classifier:sgd:alpha '0.00054015433746' -classifier:sgd:average 'False' -classifier:sgd:eta0 '0.0437714000406' -classifier:sgd:fit_intercept 'True' -classifier:sgd:learning_rate 'optimal' -classifier:sgd:loss 'log' -classifier:sgd:n_iter '943' -classifier:sgd:penalty 'l2' -imputation:strategy 'mean' -one_hot_encoding:minimum_fraction '0.000788781078698' -one_hot_encoding:use_minimum_fraction 'True' -preprocessor:__choice__ 'select_rates' -preprocessor:select_rates:alpha '0.173772682482' -preprocessor:select_rates:mode 'fwe' -preprocessor:select_rates:score_func 'chi2' -rescaling:__choice__ 'min/max'\" --initial-challengers \" -balancing:strategy 'none' -classifier:__choice__ 'passive_aggressive' -classifier:passive_aggressive:C '5.02696238248e-05' -classifier:passive_aggressive:fit_intercept 'True' -classifier:passive_aggressive:loss 'hinge' -classifier:passive_aggressive:n_iter '713' -imputation:strategy 'mean' -one_hot_encoding:use_minimum_fraction 'False' -preprocessor:__choice__ 'nystroem_sampler' -preprocessor:nystroem_sampler:kernel 'cosine' -preprocessor:nystroem_sampler:n_components '4113' -rescaling:__choice__ 'normalize'\" --initial-challengers \" -balancing:strategy 'none' -classifier:__choice__ 'random_forest' -classifier:random_forest:bootstrap 'True' -classifier:random_forest:criterion 'gini' -classifier:random_forest:max_depth 'None' -classifier:random_forest:max_features '1.0' -classifier:random_forest:max_leaf_nodes 'None' -classifier:random_forest:min_samples_leaf '1' -classifier:random_forest:min_samples_split '2' -classifier:random_forest:min_weight_fraction_leaf '0.0' -classifier:random_forest:n_estimators '100' -imputation:strategy 'mean' -one_hot_encoding:minimum_fraction '0.01' -one_hot_encoding:use_minimum_fraction 'True' -preprocessor:__choice__ 'no_preprocessing' -rescaling:__choice__ 'min/max'\" --initial-challengers \" -balancing:strategy 'none' -classifier:__choice__ 'gaussian_nb' -imputation:strategy 'mean' -one_hot_encoding:minimum_fraction '0.02562403785' -one_hot_encoding:use_minimum_fraction 'True' -preprocessor:__choice__ 'select_rates' -preprocessor:select_rates:alpha '0.159932203894' -preprocessor:select_rates:mode 'fpr' -preprocessor:select_rates:score_func 'chi2' -rescaling:__choice__ 'min/max'\" --initial-challengers \" -balancing:strategy 'weighting' -classifier:__choice__ 'extra_trees' -classifier:extra_trees:bootstrap 'False' -classifier:extra_trees:criterion 'gini' -classifier:extra_trees:max_depth 'None' -classifier:extra_trees:max_features '4.27689663157' -classifier:extra_trees:min_samples_leaf '3' -classifier:extra_trees:min_samples_split '8' -classifier:extra_trees:min_weight_fraction_leaf '0.0' -classifier:extra_trees:n_estimators '100' -imputation:strategy 'mean' -one_hot_encoding:use_minimum_fraction 'False' -preprocessor:__choice__ 'extra_trees_preproc_for_classification' -preprocessor:extra_trees_preproc_for_classification:bootstrap 'True' -preprocessor:extra_trees_preproc_for_classification:criterion 'gini' -preprocessor:extra_trees_preproc_for_classification:max_depth 'None' -preprocessor:extra_trees_preproc_for_classification:max_features '4.29160593434' -preprocessor:extra_trees_preproc_for_classification:min_samples_leaf '4' -preprocessor:extra_trees_preproc_for_classification:min_samples_split '3' -preprocessor:extra_trees_preproc_for_classification:min_weight_fraction_leaf '0.0' -preprocessor:extra_trees_preproc_for_classification:n_estimators '100' -rescaling:__choice__ 'normalize'\" --initial-challengers \" -balancing:strategy 'weighting' -classifier:__choice__ 'passive_aggressive' -classifier:passive_aggressive:C '0.736502830586' -classifier:passive_aggressive:fit_intercept 'True' -classifier:passive_aggressive:loss 'hinge' -classifier:passive_aggressive:n_iter '116' -imputation:strategy 'most_frequent' -one_hot_encoding:use_minimum_fraction 'False' -preprocessor:__choice__ 'extra_trees_preproc_for_classification' -preprocessor:extra_trees_preproc_for_classification:bootstrap 'True' -preprocessor:extra_trees_preproc_for_classification:criterion 'gini' -preprocessor:extra_trees_preproc_for_classification:max_depth 'None' -preprocessor:extra_trees_preproc_for_classification:max_features '3.59519496236' -preprocessor:extra_trees_preproc_for_classification:min_samples_leaf '6' -preprocessor:extra_trees_preproc_for_classification:min_samples_split '5' -preprocessor:extra_trees_preproc_for_classification:min_weight_fraction_leaf '0.0' -preprocessor:extra_trees_preproc_for_classification:n_estimators '100' -rescaling:__choice__ 'normalize'\" --initial-challengers \" -balancing:strategy 'weighting' -classifier:__choice__ 'extra_trees' -classifier:extra_trees:bootstrap 'False' -classifier:extra_trees:criterion 'gini' -classifier:extra_trees:max_depth 'None' -classifier:extra_trees:max_features '3.95437826799' -classifier:extra_trees:min_samples_leaf '3' -classifier:extra_trees:min_samples_split '11' -classifier:extra_trees:min_weight_fraction_leaf '0.0' -classifier:extra_trees:n_estimators '100' -imputation:strategy 'median' -one_hot_encoding:minimum_fraction '0.0054594392187' -one_hot_encoding:use_minimum_fraction 'True' -preprocessor:__choice__ 'select_rates' -preprocessor:select_rates:alpha '0.0778624164377' -preprocessor:select_rates:mode 'fwe' -preprocessor:select_rates:score_func 'chi2' -rescaling:__choice__ 'min/max'\" --initial-challengers \" -balancing:strategy 'weighting' -classifier:__choice__ 'extra_trees' -classifier:extra_trees:bootstrap 'True' -classifier:extra_trees:criterion 'gini' -classifier:extra_trees:max_depth 'None' -classifier:extra_trees:max_features '1.67676700177' -classifier:extra_trees:min_samples_leaf '1' -classifier:extra_trees:min_samples_split '2' -classifier:extra_trees:min_weight_fraction_leaf '0.0' -classifier:extra_trees:n_estimators '100' -imputation:strategy 'most_frequent' -one_hot_encoding:minimum_fraction '0.000830645234712' -one_hot_encoding:use_minimum_fraction 'True' -preprocessor:__choice__ 'extra_trees_preproc_for_classification' -preprocessor:extra_trees_preproc_for_classification:bootstrap 'False' -preprocessor:extra_trees_preproc_for_classification:criterion 'gini' -preprocessor:extra_trees_preproc_for_classification:max_depth 'None' -preprocessor:extra_trees_preproc_for_classification:max_features '4.07189135392' -preprocessor:extra_trees_preproc_for_classification:min_samples_leaf '8' -preprocessor:extra_trees_preproc_for_classification:min_samples_split '16' -preprocessor:extra_trees_preproc_for_classification:min_weight_fraction_leaf '0.0' -preprocessor:extra_trees_preproc_for_classification:n_estimators '100' -rescaling:__choice__ 'min/max'\" --initial-challengers \" -balancing:strategy 'none' -classifier:__choice__ 'passive_aggressive' -classifier:passive_aggressive:C '0.000105736933632' -classifier:passive_aggressive:fit_intercept 'True' -classifier:passive_aggressive:loss 'squared_hinge' -classifier:passive_aggressive:n_iter '624' -imputation:strategy 'most_frequent' -one_hot_encoding:use_minimum_fraction 'False' -preprocessor:__choice__ 'liblinear_svc_preprocessor' -preprocessor:liblinear_svc_preprocessor:C '476.561620094' -preprocessor:liblinear_svc_preprocessor:dual 'False' -preprocessor:liblinear_svc_preprocessor:fit_intercept 'True' -preprocessor:liblinear_svc_preprocessor:intercept_scaling '1' -preprocessor:liblinear_svc_preprocessor:loss 'squared_hinge' -preprocessor:liblinear_svc_preprocessor:multi_class 'ovr' -preprocessor:liblinear_svc_preprocessor:penalty 'l1' -preprocessor:liblinear_svc_preprocessor:tol '0.0633775575587' -rescaling:__choice__ 'normalize'\" --initial-challengers \" -balancing:strategy 'weighting' -classifier:__choice__ 'liblinear_svc' -classifier:liblinear_svc:C '0.30992815211' -classifier:liblinear_svc:dual 'False' -classifier:liblinear_svc:fit_intercept 'True' -classifier:liblinear_svc:intercept_scaling '1' -classifier:liblinear_svc:loss 'squared_hinge' -classifier:liblinear_svc:multi_class 'ovr' -classifier:liblinear_svc:penalty 'l2' -classifier:liblinear_svc:tol '0.0655697501082' -imputation:strategy 'mean' -one_hot_encoding:minimum_fraction '0.00470215321783' -one_hot_encoding:use_minimum_fraction 'True' -preprocessor:__choice__ 'feature_agglomeration' -preprocessor:feature_agglomeration:affinity 'euclidean' -preprocessor:feature_agglomeration:linkage 'average' -preprocessor:feature_agglomeration:n_clusters '283' -preprocessor:feature_agglomeration:pooling_func 'median' -rescaling:__choice__ 'min/max'\" --initial-challengers \" -balancing:strategy 'none' -classifier:__choice__ 'extra_trees' -classifier:extra_trees:bootstrap 'False' -classifier:extra_trees:criterion 'gini' -classifier:extra_trees:max_depth 'None' -classifier:extra_trees:max_features '1.0' -classifier:extra_trees:min_samples_leaf '1' -classifier:extra_trees:min_samples_split '2' -classifier:extra_trees:min_weight_fraction_leaf '0.0' -classifier:extra_trees:n_estimators '100' -imputation:strategy 'median' -one_hot_encoding:use_minimum_fraction 'False' -preprocessor:__choice__ 'extra_trees_preproc_for_classification' -preprocessor:extra_trees_preproc_for_classification:bootstrap 'False' -preprocessor:extra_trees_preproc_for_classification:criterion 'gini' -preprocessor:extra_trees_preproc_for_classification:max_depth 'None' -preprocessor:extra_trees_preproc_for_classification:max_features '1.0' -preprocessor:extra_trees_preproc_for_classification:min_samples_leaf '1' -preprocessor:extra_trees_preproc_for_classification:min_samples_split '2' -preprocessor:extra_trees_preproc_for_classification:min_weight_fraction_leaf '0.0' -preprocessor:extra_trees_preproc_for_classification:n_estimators '100' -rescaling:__choice__ 'none'\" --initial-challengers \" -balancing:strategy 'none' -classifier:__choice__ 'gradient_boosting' -classifier:gradient_boosting:learning_rate '0.1' -classifier:gradient_boosting:loss 'deviance' -classifier:gradient_boosting:max_depth '3' -classifier:gradient_boosting:max_features '1.0' -classifier:gradient_boosting:max_leaf_nodes 'None' -classifier:gradient_boosting:min_samples_leaf '1' -classifier:gradient_boosting:min_samples_split '2' -classifier:gradient_boosting:min_weight_fraction_leaf '0.0' -classifier:gradient_boosting:n_estimators '100' -classifier:gradient_boosting:subsample '1.0' -imputation:strategy 'most_frequent' -one_hot_encoding:minimum_fraction '0.000903485387069' -one_hot_encoding:use_minimum_fraction 'True' -preprocessor:__choice__ 'extra_trees_preproc_for_classification' -preprocessor:extra_trees_preproc_for_classification:bootstrap 'False' -preprocessor:extra_trees_preproc_for_classification:criterion 'gini' -preprocessor:extra_trees_preproc_for_classification:max_depth 'None' -preprocessor:extra_trees_preproc_for_classification:max_features '1.0' -preprocessor:extra_trees_preproc_for_classification:min_samples_leaf '1' -preprocessor:extra_trees_preproc_for_classification:min_samples_split '2' -preprocessor:extra_trees_preproc_for_classification:min_weight_fraction_leaf '0.0' -preprocessor:extra_trees_preproc_for_classification:n_estimators '100' -rescaling:__choice__ 'none'\" --initial-challengers \" -balancing:strategy 'none' -classifier:__choice__ 'gradient_boosting' -classifier:gradient_boosting:learning_rate '0.412059778923' -classifier:gradient_boosting:loss 'deviance' -classifier:gradient_boosting:max_depth '3' -classifier:gradient_boosting:max_features '4.75812162154' -classifier:gradient_boosting:max_leaf_nodes 'None' -classifier:gradient_boosting:min_samples_leaf '16' -classifier:gradient_boosting:min_samples_split '6' -classifier:gradient_boosting:min_weight_fraction_leaf '0.0' -classifier:gradient_boosting:n_estimators '100' -classifier:gradient_boosting:subsample '0.969865767432' -imputation:strategy 'mean' -one_hot_encoding:minimum_fraction '0.45394720186' -one_hot_encoding:use_minimum_fraction 'True' -preprocessor:__choice__ 'extra_trees_preproc_for_classification' -preprocessor:extra_trees_preproc_for_classification:bootstrap 'False' -preprocessor:extra_trees_preproc_for_classification:criterion 'gini' -preprocessor:extra_trees_preproc_for_classification:max_depth 'None' -preprocessor:extra_trees_preproc_for_classification:max_features '2.99791133037' -preprocessor:extra_trees_preproc_for_classification:min_samples_leaf '5' -preprocessor:extra_trees_preproc_for_classification:min_samples_split '17' -preprocessor:extra_trees_preproc_for_classification:min_weight_fraction_leaf '0.0' -preprocessor:extra_trees_preproc_for_classification:n_estimators '100' -rescaling:__choice__ 'standardize'\" --initial-challengers \" -balancing:strategy 'none' -classifier:__choice__ 'random_forest' -classifier:random_forest:bootstrap 'True' -classifier:random_forest:criterion 'gini' -classifier:random_forest:max_depth 'None' -classifier:random_forest:max_features '1.0' -classifier:random_forest:max_leaf_nodes 'None' -classifier:random_forest:min_samples_leaf '1' -classifier:random_forest:min_samples_split '2' -classifier:random_forest:min_weight_fraction_leaf '0.0' -classifier:random_forest:n_estimators '100' -imputation:strategy 'mean' -one_hot_encoding:minimum_fraction '0.01' -one_hot_encoding:use_minimum_fraction 'True' -preprocessor:__choice__ 'extra_trees_preproc_for_classification' -preprocessor:extra_trees_preproc_for_classification:bootstrap 'False' -preprocessor:extra_trees_preproc_for_classification:criterion 'gini' -preprocessor:extra_trees_preproc_for_classification:max_depth 'None' -preprocessor:extra_trees_preproc_for_classification:max_features '1.0' -preprocessor:extra_trees_preproc_for_classification:min_samples_leaf '1' -preprocessor:extra_trees_preproc_for_classification:min_samples_split '2' -preprocessor:extra_trees_preproc_for_classification:min_weight_fraction_leaf '0.0' -preprocessor:extra_trees_preproc_for_classification:n_estimators '100' -rescaling:__choice__ 'min/max'\" --initial-challengers \" -balancing:strategy 'weighting' -classifier:__choice__ 'proj_logit' -classifier:proj_logit:max_epochs '19' -imputation:strategy 'median' -one_hot_encoding:minimum_fraction '0.0683328961238' -one_hot_encoding:use_minimum_fraction 'True' -preprocessor:__choice__ 'extra_trees_preproc_for_classification' -preprocessor:extra_trees_preproc_for_classification:bootstrap 'False' -preprocessor:extra_trees_preproc_for_classification:criterion 'gini' -preprocessor:extra_trees_preproc_for_classification:max_depth 'None' -preprocessor:extra_trees_preproc_for_classification:max_features '1.06951793291' -preprocessor:extra_trees_preproc_for_classification:min_samples_leaf '3' -preprocessor:extra_trees_preproc_for_classification:min_samples_split '5' -preprocessor:extra_trees_preproc_for_classification:min_weight_fraction_leaf '0.0' -preprocessor:extra_trees_preproc_for_classification:n_estimators '100' -rescaling:__choice__ 'standardize'\" --initial-challengers \" -balancing:strategy 'none' -classifier:__choice__ 'adaboost' -classifier:adaboost:algorithm 'SAMME' -classifier:adaboost:learning_rate '1.23062080068' -classifier:adaboost:max_depth '6' -classifier:adaboost:n_estimators '499' -imputation:strategy 'median' -one_hot_encoding:use_minimum_fraction 'False' -preprocessor:__choice__ 'extra_trees_preproc_for_classification' -preprocessor:extra_trees_preproc_for_classification:bootstrap 'True' -preprocessor:extra_trees_preproc_for_classification:criterion 'entropy' -preprocessor:extra_trees_preproc_for_classification:max_depth 'None' -preprocessor:extra_trees_preproc_for_classification:max_features '3.5347851525' -preprocessor:extra_trees_preproc_for_classification:min_samples_leaf '6' -preprocessor:extra_trees_preproc_for_classification:min_samples_split '8' -preprocessor:extra_trees_preproc_for_classification:min_weight_fraction_leaf '0.0' -preprocessor:extra_trees_preproc_for_classification:n_estimators '100' -rescaling:__choice__ 'standardize'\" --initial-challengers \" -balancing:strategy 'weighting' -classifier:__choice__ 'random_forest' -classifier:random_forest:bootstrap 'True' -classifier:random_forest:criterion 'gini' -classifier:random_forest:max_depth 'None' -classifier:random_forest:max_features '3.9870771655' -classifier:random_forest:max_leaf_nodes 'None' -classifier:random_forest:min_samples_leaf '1' -classifier:random_forest:min_samples_split '2' -classifier:random_forest:min_weight_fraction_leaf '0.0' -classifier:random_forest:n_estimators '100' -imputation:strategy 'mean' -one_hot_encoding:minimum_fraction '0.0139633698171' -one_hot_encoding:use_minimum_fraction 'True' -preprocessor:__choice__ 'select_rates' -preprocessor:select_rates:alpha '0.227792718863' -preprocessor:select_rates:mode 'fdr' -preprocessor:select_rates:score_func 'f_classif' -rescaling:__choice__ 'min/max'\" --initial-challengers \" -balancing:strategy 'none' -classifier:__choice__ 'sgd' -classifier:sgd:alpha '8.4637990261e-06' -classifier:sgd:average 'True' -classifier:sgd:eta0 '0.0299104961513' -classifier:sgd:fit_intercept 'True' -classifier:sgd:l1_ratio '0.544995215291' -classifier:sgd:learning_rate 'optimal' -classifier:sgd:loss 'log' -classifier:sgd:n_iter '370' -classifier:sgd:penalty 'elasticnet' -imputation:strategy 'most_frequent' -one_hot_encoding:use_minimum_fraction 'False' -preprocessor:__choice__ 'select_percentile_classification' -preprocessor:select_percentile_classification:percentile '71.667144562' -preprocessor:select_percentile_classification:score_func 'chi2' -rescaling:__choice__ 'normalize'\" --initial-challengers \" -balancing:strategy 'weighting' -classifier:__choice__ 'extra_trees' -classifier:extra_trees:bootstrap 'False' -classifier:extra_trees:criterion 'gini' -classifier:extra_trees:max_depth 'None' -classifier:extra_trees:max_features '3.3939217788' -classifier:extra_trees:min_samples_leaf '1' -classifier:extra_trees:min_samples_split '18' -classifier:extra_trees:min_weight_fraction_leaf '0.0' -classifier:extra_trees:n_estimators '100' -imputation:strategy 'mean' -one_hot_encoding:minimum_fraction '0.000146246097923' -one_hot_encoding:use_minimum_fraction 'True' -preprocessor:__choice__ 'extra_trees_preproc_for_classification' -preprocessor:extra_trees_preproc_for_classification:bootstrap 'True' -preprocessor:extra_trees_preproc_for_classification:criterion 'gini' -preprocessor:extra_trees_preproc_for_classification:max_depth 'None' -preprocessor:extra_trees_preproc_for_classification:max_features '2.69364047358' -preprocessor:extra_trees_preproc_for_classification:min_samples_leaf '1' -preprocessor:extra_trees_preproc_for_classification:min_samples_split '8' -preprocessor:extra_trees_preproc_for_classification:min_weight_fraction_leaf '0.0' -preprocessor:extra_trees_preproc_for_classification:n_estimators '100' -rescaling:__choice__ 'standardize'\" --initial-challengers \" -balancing:strategy 'none' -classifier:__choice__ 'gradient_boosting' -classifier:gradient_boosting:learning_rate '0.0560252603225' -classifier:gradient_boosting:loss 'deviance' -classifier:gradient_boosting:max_depth '8' -classifier:gradient_boosting:max_features '4.52682140654' -classifier:gradient_boosting:max_leaf_nodes 'None' -classifier:gradient_boosting:min_samples_leaf '2' -classifier:gradient_boosting:min_samples_split '5' -classifier:gradient_boosting:min_weight_fraction_leaf '0.0' -classifier:gradient_boosting:n_estimators '100' -classifier:gradient_boosting:subsample '0.569890408985' -imputation:strategy 'median' -one_hot_encoding:minimum_fraction '0.0148304286629' -one_hot_encoding:use_minimum_fraction 'True' -preprocessor:__choice__ 'select_rates' -preprocessor:select_rates:alpha '0.304193185102' -preprocessor:select_rates:mode 'fpr' -preprocessor:select_rates:score_func 'f_classif' -rescaling:__choice__ 'standardize'\" --initial-challengers \" -balancing:strategy 'none' -classifier:__choice__ 'proj_logit' -classifier:proj_logit:max_epochs '11' -imputation:strategy 'median' -one_hot_encoding:minimum_fraction '0.0054594392187' -one_hot_encoding:use_minimum_fraction 'True' -preprocessor:__choice__ 'pca' -preprocessor:pca:keep_variance '0.637714511878' -preprocessor:pca:whiten 'False' -rescaling:__choice__ 'standardize'\" --initial-challengers \" -balancing:strategy 'weighting' -classifier:__choice__ 'adaboost' -classifier:adaboost:algorithm 'SAMME' -classifier:adaboost:learning_rate '1.10482542901' -classifier:adaboost:max_depth '2' -classifier:adaboost:n_estimators '246' -imputation:strategy 'most_frequent' -one_hot_encoding:use_minimum_fraction 'False' -preprocessor:__choice__ 'polynomial' -preprocessor:polynomial:degree '2' -preprocessor:polynomial:include_bias 'False' -preprocessor:polynomial:interaction_only 'True' -rescaling:__choice__ 'min/max'\" --initial-challengers \" -balancing:strategy 'none' -classifier:__choice__ 'adaboost' -classifier:adaboost:algorithm 'SAMME' -classifier:adaboost:learning_rate '0.320190941685' -classifier:adaboost:max_depth '3' -classifier:adaboost:n_estimators '178' -imputation:strategy 'mean' -one_hot_encoding:use_minimum_fraction 'False' -preprocessor:__choice__ 'polynomial' -preprocessor:polynomial:degree '2' -preprocessor:polynomial:include_bias 'True' -preprocessor:polynomial:interaction_only 'False' -rescaling:__choice__ 'min/max'\"\n",
      "[INFO] [2015-11-23 23:07:06,288:AutoML(1):b04e416cec329c1940a3dac4c8242383] Start Ensemble with 3595.10sec time left\n",
      "[INFO] [2015-11-23 23:07:06,290:autosklearn.util.submit_process] Calling: runsolver --watcher-data /dev/null -W 3595 -d 5 python -m autosklearn.ensemble_selection_script --auto-sklearn-tmp-directory /tmp/autosklearn_tmp_23988_2557 --basename b04e416cec329c1940a3dac4c8242383 --task multiclass.classification --metric acc_metric --limit 3590.09988403 --output-directory /tmp/autosklearn_output_23988_2557 --ensemble-size 50 --ensemble-nbest 50 --auto-sklearn-seed 1 --max-iterations -1\n"
     ]
    },
    {
     "name": "stderr",
     "output_type": "stream",
     "text": [
      "/home/cole/anaconda2/lib/python2.7/site-packages/numpy/lib/nanfunctions.py:1136: RuntimeWarning: Degrees of freedom <= 0 for slice.\n",
      "  warnings.warn(\"Degrees of freedom <= 0 for slice.\", RuntimeWarning)\n",
      "/home/cole/anaconda2/lib/python2.7/site-packages/numpy/lib/nanfunctions.py:675: RuntimeWarning: Mean of empty slice\n",
      "  warnings.warn(\"Mean of empty slice\", RuntimeWarning)\n"
     ]
    },
    {
     "data": {
      "text/plain": [
       "<AutoSklearnClassifier(AutoSklearnClassifier-1, initial)>"
      ]
     },
     "execution_count": 5,
     "metadata": {},
     "output_type": "execute_result"
    }
   ],
   "source": [
    "automl.fit(X_train, np.ravel(Y_train))"
   ]
  },
  {
   "cell_type": "code",
   "execution_count": null,
   "metadata": {
    "collapsed": true
   },
   "outputs": [],
   "source": []
  }
 ],
 "metadata": {
  "kernelspec": {
   "display_name": "Python 2",
   "language": "python",
   "name": "python2"
  },
  "language_info": {
   "codemirror_mode": {
    "name": "ipython",
    "version": 2
   },
   "file_extension": ".py",
   "mimetype": "text/x-python",
   "name": "python",
   "nbconvert_exporter": "python",
   "pygments_lexer": "ipython2",
   "version": "2.7.10"
  }
 },
 "nbformat": 4,
 "nbformat_minor": 0
}
