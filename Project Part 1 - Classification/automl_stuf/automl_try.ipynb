{
 "cells": [
  {
   "cell_type": "code",
   "execution_count": 1,
   "metadata": {
    "collapsed": true
   },
   "outputs": [],
   "source": [
    "# Imports\n",
    "import numpy as np\n",
    "import scipy.io as sio\n",
    "from sklearn import decomposition\n",
    "from sklearn.svm import SVC\n",
    "from sklearn import preprocessing\n",
    "from sklearn.pipeline import FeatureUnion\n",
    "from sklearn import cross_validation\n",
    "import autosklearn\n",
    "from sklearn.feature_selection import f_classif, SelectPercentile"
   ]
  },
  {
   "cell_type": "code",
   "execution_count": 2,
   "metadata": {
    "collapsed": true
   },
   "outputs": [],
   "source": [
    "# Import the data\n",
    "trainData = sio.loadmat('Train.mat')\n",
    "testData = sio.loadmat('Test.mat')\n",
    "\n",
    "# Get the values of the train data\n",
    "Xtrain = trainData.get('Xtrain')\n",
    "Ytrain = trainData.get('Ytrain')"
   ]
  },
  {
   "cell_type": "code",
   "execution_count": 4,
   "metadata": {
    "collapsed": false
   },
   "outputs": [],
   "source": [
    "# Change the data\n",
    "# Set up the classifier\n",
    "# Use PCA to reduce the dimensionalit\n",
    "comp =453 # number of components\n",
    "cw = {}\n",
    "cw[1] = 1\n",
    "cw[0] = 1\n",
    "cw[3] = 1\n",
    "pca = decomposition.PCA(n_components=comp)\n",
    "\n",
    "selection = SelectPercentile(f_classif, percentile=4)\n",
    "\n",
    "combined_features = FeatureUnion([ (\"univ_select\", selection)])"
   ]
  },
  {
   "cell_type": "code",
   "execution_count": 5,
   "metadata": {
    "collapsed": false
   },
   "outputs": [],
   "source": [
    "# Run feature selection\n",
    "Xtrain = preprocessing.StandardScaler(copy=True, with_mean=True, with_std=True).fit_transform(Xtrain)\n",
    "X_pca = combined_features.fit(Xtrain, np.ravel(Ytrain)).transform(Xtrain)"
   ]
  },
  {
   "cell_type": "code",
   "execution_count": 6,
   "metadata": {
    "collapsed": true
   },
   "outputs": [],
   "source": [
    "# Set up classifier\n",
    "automl = autosklearn.AutoSklearnClassifier()"
   ]
  },
  {
   "cell_type": "code",
   "execution_count": 7,
   "metadata": {
    "collapsed": false
   },
   "outputs": [
    {
     "name": "stdout",
     "output_type": "stream",
     "text": [
      "[INFO] [2015-11-24 03:05:22,098:AutoML(1):894685adab9c31371fb5e315b3713987] Start calculating metafeatures for 894685adab9c31371fb5e315b3713987\n",
      "[INFO] [2015-11-24 03:05:22,122:AutoML(1):894685adab9c31371fb5e315b3713987] Calculating Metafeatures (categorical attributes) took  0.02\n",
      "[INFO] [2015-11-24 03:05:22,314:AutoML(1):894685adab9c31371fb5e315b3713987] Calculating Metafeatures (encoded attributes) took  0.19sec\n",
      "[INFO] [2015-11-24 03:05:23,673:AutoML(1):894685adab9c31371fb5e315b3713987] Time left for 894685adab9c31371fb5e315b3713987 after finding initial configurations: 3596.03sec\n",
      "[INFO] [2015-11-24 03:05:23,675:autosklearn.util.smac] Start SMAC with 3596.03sec time left\n",
      "[INFO] [2015-11-24 03:05:23,675:autosklearn.util.smac] Calling: smac --numRun 1 --scenario /tmp/autosklearn_tmp_1909_1535/894685adab9c31371fb5e315b3713987.scenario --num-ei-random 1000 --num-challengers 100 --initial-incumbent DEFAULT --retryTargetAlgorithmRunCount 0 --intensification-percentage 0.5 --validation false --initial-challengers \" -balancing:strategy 'weighting' -classifier:__choice__ 'extra_trees' -classifier:extra_trees:bootstrap 'True' -classifier:extra_trees:criterion 'gini' -classifier:extra_trees:max_depth 'None' -classifier:extra_trees:max_features '1.67676700177' -classifier:extra_trees:min_samples_leaf '1' -classifier:extra_trees:min_samples_split '2' -classifier:extra_trees:min_weight_fraction_leaf '0.0' -classifier:extra_trees:n_estimators '100' -imputation:strategy 'most_frequent' -one_hot_encoding:minimum_fraction '0.000830645234712' -one_hot_encoding:use_minimum_fraction 'True' -preprocessor:__choice__ 'extra_trees_preproc_for_classification' -preprocessor:extra_trees_preproc_for_classification:bootstrap 'False' -preprocessor:extra_trees_preproc_for_classification:criterion 'gini' -preprocessor:extra_trees_preproc_for_classification:max_depth 'None' -preprocessor:extra_trees_preproc_for_classification:max_features '4.07189135392' -preprocessor:extra_trees_preproc_for_classification:min_samples_leaf '8' -preprocessor:extra_trees_preproc_for_classification:min_samples_split '16' -preprocessor:extra_trees_preproc_for_classification:min_weight_fraction_leaf '0.0' -preprocessor:extra_trees_preproc_for_classification:n_estimators '100' -rescaling:__choice__ 'min/max'\" --initial-challengers \" -balancing:strategy 'weighting' -classifier:__choice__ 'liblinear_svc' -classifier:liblinear_svc:C '0.30992815211' -classifier:liblinear_svc:dual 'False' -classifier:liblinear_svc:fit_intercept 'True' -classifier:liblinear_svc:intercept_scaling '1' -classifier:liblinear_svc:loss 'squared_hinge' -classifier:liblinear_svc:multi_class 'ovr' -classifier:liblinear_svc:penalty 'l2' -classifier:liblinear_svc:tol '0.0655697501082' -imputation:strategy 'mean' -one_hot_encoding:minimum_fraction '0.00470215321783' -one_hot_encoding:use_minimum_fraction 'True' -preprocessor:__choice__ 'feature_agglomeration' -preprocessor:feature_agglomeration:affinity 'euclidean' -preprocessor:feature_agglomeration:linkage 'average' -preprocessor:feature_agglomeration:n_clusters '283' -preprocessor:feature_agglomeration:pooling_func 'median' -rescaling:__choice__ 'min/max'\" --initial-challengers \" -balancing:strategy 'none' -classifier:__choice__ 'extra_trees' -classifier:extra_trees:bootstrap 'False' -classifier:extra_trees:criterion 'gini' -classifier:extra_trees:max_depth 'None' -classifier:extra_trees:max_features '1.0' -classifier:extra_trees:min_samples_leaf '1' -classifier:extra_trees:min_samples_split '2' -classifier:extra_trees:min_weight_fraction_leaf '0.0' -classifier:extra_trees:n_estimators '100' -imputation:strategy 'median' -one_hot_encoding:use_minimum_fraction 'False' -preprocessor:__choice__ 'extra_trees_preproc_for_classification' -preprocessor:extra_trees_preproc_for_classification:bootstrap 'False' -preprocessor:extra_trees_preproc_for_classification:criterion 'gini' -preprocessor:extra_trees_preproc_for_classification:max_depth 'None' -preprocessor:extra_trees_preproc_for_classification:max_features '1.0' -preprocessor:extra_trees_preproc_for_classification:min_samples_leaf '1' -preprocessor:extra_trees_preproc_for_classification:min_samples_split '2' -preprocessor:extra_trees_preproc_for_classification:min_weight_fraction_leaf '0.0' -preprocessor:extra_trees_preproc_for_classification:n_estimators '100' -rescaling:__choice__ 'none'\" --initial-challengers \" -balancing:strategy 'none' -classifier:__choice__ 'gradient_boosting' -classifier:gradient_boosting:learning_rate '0.1' -classifier:gradient_boosting:loss 'deviance' -classifier:gradient_boosting:max_depth '3' -classifier:gradient_boosting:max_features '1.0' -classifier:gradient_boosting:max_leaf_nodes 'None' -classifier:gradient_boosting:min_samples_leaf '1' -classifier:gradient_boosting:min_samples_split '2' -classifier:gradient_boosting:min_weight_fraction_leaf '0.0' -classifier:gradient_boosting:n_estimators '100' -classifier:gradient_boosting:subsample '1.0' -imputation:strategy 'most_frequent' -one_hot_encoding:minimum_fraction '0.000903485387069' -one_hot_encoding:use_minimum_fraction 'True' -preprocessor:__choice__ 'extra_trees_preproc_for_classification' -preprocessor:extra_trees_preproc_for_classification:bootstrap 'False' -preprocessor:extra_trees_preproc_for_classification:criterion 'gini' -preprocessor:extra_trees_preproc_for_classification:max_depth 'None' -preprocessor:extra_trees_preproc_for_classification:max_features '1.0' -preprocessor:extra_trees_preproc_for_classification:min_samples_leaf '1' -preprocessor:extra_trees_preproc_for_classification:min_samples_split '2' -preprocessor:extra_trees_preproc_for_classification:min_weight_fraction_leaf '0.0' -preprocessor:extra_trees_preproc_for_classification:n_estimators '100' -rescaling:__choice__ 'none'\" --initial-challengers \" -balancing:strategy 'none' -classifier:__choice__ 'gradient_boosting' -classifier:gradient_boosting:learning_rate '0.412059778923' -classifier:gradient_boosting:loss 'deviance' -classifier:gradient_boosting:max_depth '3' -classifier:gradient_boosting:max_features '4.75812162154' -classifier:gradient_boosting:max_leaf_nodes 'None' -classifier:gradient_boosting:min_samples_leaf '16' -classifier:gradient_boosting:min_samples_split '6' -classifier:gradient_boosting:min_weight_fraction_leaf '0.0' -classifier:gradient_boosting:n_estimators '100' -classifier:gradient_boosting:subsample '0.969865767432' -imputation:strategy 'mean' -one_hot_encoding:minimum_fraction '0.45394720186' -one_hot_encoding:use_minimum_fraction 'True' -preprocessor:__choice__ 'extra_trees_preproc_for_classification' -preprocessor:extra_trees_preproc_for_classification:bootstrap 'False' -preprocessor:extra_trees_preproc_for_classification:criterion 'gini' -preprocessor:extra_trees_preproc_for_classification:max_depth 'None' -preprocessor:extra_trees_preproc_for_classification:max_features '2.99791133037' -preprocessor:extra_trees_preproc_for_classification:min_samples_leaf '5' -preprocessor:extra_trees_preproc_for_classification:min_samples_split '17' -preprocessor:extra_trees_preproc_for_classification:min_weight_fraction_leaf '0.0' -preprocessor:extra_trees_preproc_for_classification:n_estimators '100' -rescaling:__choice__ 'standardize'\" --initial-challengers \" -balancing:strategy 'none' -classifier:__choice__ 'random_forest' -classifier:random_forest:bootstrap 'True' -classifier:random_forest:criterion 'gini' -classifier:random_forest:max_depth 'None' -classifier:random_forest:max_features '1.0' -classifier:random_forest:max_leaf_nodes 'None' -classifier:random_forest:min_samples_leaf '1' -classifier:random_forest:min_samples_split '2' -classifier:random_forest:min_weight_fraction_leaf '0.0' -classifier:random_forest:n_estimators '100' -imputation:strategy 'mean' -one_hot_encoding:minimum_fraction '0.01' -one_hot_encoding:use_minimum_fraction 'True' -preprocessor:__choice__ 'extra_trees_preproc_for_classification' -preprocessor:extra_trees_preproc_for_classification:bootstrap 'False' -preprocessor:extra_trees_preproc_for_classification:criterion 'gini' -preprocessor:extra_trees_preproc_for_classification:max_depth 'None' -preprocessor:extra_trees_preproc_for_classification:max_features '1.0' -preprocessor:extra_trees_preproc_for_classification:min_samples_leaf '1' -preprocessor:extra_trees_preproc_for_classification:min_samples_split '2' -preprocessor:extra_trees_preproc_for_classification:min_weight_fraction_leaf '0.0' -preprocessor:extra_trees_preproc_for_classification:n_estimators '100' -rescaling:__choice__ 'min/max'\" --initial-challengers \" -balancing:strategy 'none' -classifier:__choice__ 'adaboost' -classifier:adaboost:algorithm 'SAMME' -classifier:adaboost:learning_rate '1.23062080068' -classifier:adaboost:max_depth '6' -classifier:adaboost:n_estimators '499' -imputation:strategy 'median' -one_hot_encoding:use_minimum_fraction 'False' -preprocessor:__choice__ 'extra_trees_preproc_for_classification' -preprocessor:extra_trees_preproc_for_classification:bootstrap 'True' -preprocessor:extra_trees_preproc_for_classification:criterion 'entropy' -preprocessor:extra_trees_preproc_for_classification:max_depth 'None' -preprocessor:extra_trees_preproc_for_classification:max_features '3.5347851525' -preprocessor:extra_trees_preproc_for_classification:min_samples_leaf '6' -preprocessor:extra_trees_preproc_for_classification:min_samples_split '8' -preprocessor:extra_trees_preproc_for_classification:min_weight_fraction_leaf '0.0' -preprocessor:extra_trees_preproc_for_classification:n_estimators '100' -rescaling:__choice__ 'standardize'\" --initial-challengers \" -balancing:strategy 'weighting' -classifier:__choice__ 'random_forest' -classifier:random_forest:bootstrap 'True' -classifier:random_forest:criterion 'gini' -classifier:random_forest:max_depth 'None' -classifier:random_forest:max_features '3.9870771655' -classifier:random_forest:max_leaf_nodes 'None' -classifier:random_forest:min_samples_leaf '1' -classifier:random_forest:min_samples_split '2' -classifier:random_forest:min_weight_fraction_leaf '0.0' -classifier:random_forest:n_estimators '100' -imputation:strategy 'mean' -one_hot_encoding:minimum_fraction '0.0139633698171' -one_hot_encoding:use_minimum_fraction 'True' -preprocessor:__choice__ 'select_rates' -preprocessor:select_rates:alpha '0.227792718863' -preprocessor:select_rates:mode 'fdr' -preprocessor:select_rates:score_func 'f_classif' -rescaling:__choice__ 'min/max'\" --initial-challengers \" -balancing:strategy 'weighting' -classifier:__choice__ 'extra_trees' -classifier:extra_trees:bootstrap 'False' -classifier:extra_trees:criterion 'gini' -classifier:extra_trees:max_depth 'None' -classifier:extra_trees:max_features '3.3939217788' -classifier:extra_trees:min_samples_leaf '1' -classifier:extra_trees:min_samples_split '18' -classifier:extra_trees:min_weight_fraction_leaf '0.0' -classifier:extra_trees:n_estimators '100' -imputation:strategy 'mean' -one_hot_encoding:minimum_fraction '0.000146246097923' -one_hot_encoding:use_minimum_fraction 'True' -preprocessor:__choice__ 'extra_trees_preproc_for_classification' -preprocessor:extra_trees_preproc_for_classification:bootstrap 'True' -preprocessor:extra_trees_preproc_for_classification:criterion 'gini' -preprocessor:extra_trees_preproc_for_classification:max_depth 'None' -preprocessor:extra_trees_preproc_for_classification:max_features '2.69364047358' -preprocessor:extra_trees_preproc_for_classification:min_samples_leaf '1' -preprocessor:extra_trees_preproc_for_classification:min_samples_split '8' -preprocessor:extra_trees_preproc_for_classification:min_weight_fraction_leaf '0.0' -preprocessor:extra_trees_preproc_for_classification:n_estimators '100' -rescaling:__choice__ 'standardize'\" --initial-challengers \" -balancing:strategy 'none' -classifier:__choice__ 'gradient_boosting' -classifier:gradient_boosting:learning_rate '0.0560252603225' -classifier:gradient_boosting:loss 'deviance' -classifier:gradient_boosting:max_depth '8' -classifier:gradient_boosting:max_features '4.52682140654' -classifier:gradient_boosting:max_leaf_nodes 'None' -classifier:gradient_boosting:min_samples_leaf '2' -classifier:gradient_boosting:min_samples_split '5' -classifier:gradient_boosting:min_weight_fraction_leaf '0.0' -classifier:gradient_boosting:n_estimators '100' -classifier:gradient_boosting:subsample '0.569890408985' -imputation:strategy 'median' -one_hot_encoding:minimum_fraction '0.0148304286629' -one_hot_encoding:use_minimum_fraction 'True' -preprocessor:__choice__ 'select_rates' -preprocessor:select_rates:alpha '0.304193185102' -preprocessor:select_rates:mode 'fpr' -preprocessor:select_rates:score_func 'f_classif' -rescaling:__choice__ 'standardize'\" --initial-challengers \" -balancing:strategy 'weighting' -classifier:__choice__ 'adaboost' -classifier:adaboost:algorithm 'SAMME' -classifier:adaboost:learning_rate '1.10482542901' -classifier:adaboost:max_depth '2' -classifier:adaboost:n_estimators '246' -imputation:strategy 'most_frequent' -one_hot_encoding:use_minimum_fraction 'False' -preprocessor:__choice__ 'polynomial' -preprocessor:polynomial:degree '2' -preprocessor:polynomial:include_bias 'False' -preprocessor:polynomial:interaction_only 'True' -rescaling:__choice__ 'min/max'\" --initial-challengers \" -balancing:strategy 'none' -classifier:__choice__ 'adaboost' -classifier:adaboost:algorithm 'SAMME' -classifier:adaboost:learning_rate '0.320190941685' -classifier:adaboost:max_depth '3' -classifier:adaboost:n_estimators '178' -imputation:strategy 'mean' -one_hot_encoding:use_minimum_fraction 'False' -preprocessor:__choice__ 'polynomial' -preprocessor:polynomial:degree '2' -preprocessor:polynomial:include_bias 'True' -preprocessor:polynomial:interaction_only 'False' -rescaling:__choice__ 'min/max'\" --initial-challengers \" -balancing:strategy 'weighting' -classifier:__choice__ 'extra_trees' -classifier:extra_trees:bootstrap 'True' -classifier:extra_trees:criterion 'gini' -classifier:extra_trees:max_depth 'None' -classifier:extra_trees:max_features '2.71468419447' -classifier:extra_trees:min_samples_leaf '1' -classifier:extra_trees:min_samples_split '9' -classifier:extra_trees:min_weight_fraction_leaf '0.0' -classifier:extra_trees:n_estimators '100' -imputation:strategy 'most_frequent' -one_hot_encoding:use_minimum_fraction 'False' -preprocessor:__choice__ 'select_rates' -preprocessor:select_rates:alpha '0.179601161361' -preprocessor:select_rates:mode 'fwe' -preprocessor:select_rates:score_func 'f_classif' -rescaling:__choice__ 'standardize'\" --initial-challengers \" -balancing:strategy 'weighting' -classifier:__choice__ 'gradient_boosting' -classifier:gradient_boosting:learning_rate '0.0465743942312' -classifier:gradient_boosting:loss 'deviance' -classifier:gradient_boosting:max_depth '5' -classifier:gradient_boosting:max_features '3.41396592361' -classifier:gradient_boosting:max_leaf_nodes 'None' -classifier:gradient_boosting:min_samples_leaf '19' -classifier:gradient_boosting:min_samples_split '2' -classifier:gradient_boosting:min_weight_fraction_leaf '0.0' -classifier:gradient_boosting:n_estimators '100' -classifier:gradient_boosting:subsample '0.989501884397' -imputation:strategy 'mean' -one_hot_encoding:minimum_fraction '0.000859247987064' -one_hot_encoding:use_minimum_fraction 'True' -preprocessor:__choice__ 'polynomial' -preprocessor:polynomial:degree '2' -preprocessor:polynomial:include_bias 'True' -preprocessor:polynomial:interaction_only 'False' -rescaling:__choice__ 'min/max'\" --initial-challengers \" -balancing:strategy 'none' -classifier:__choice__ 'random_forest' -classifier:random_forest:bootstrap 'True' -classifier:random_forest:criterion 'gini' -classifier:random_forest:max_depth 'None' -classifier:random_forest:max_features '1.0' -classifier:random_forest:max_leaf_nodes 'None' -classifier:random_forest:min_samples_leaf '1' -classifier:random_forest:min_samples_split '2' -classifier:random_forest:min_weight_fraction_leaf '0.0' -classifier:random_forest:n_estimators '100' -imputation:strategy 'mean' -one_hot_encoding:minimum_fraction '0.01' -one_hot_encoding:use_minimum_fraction 'True' -preprocessor:__choice__ 'no_preprocessing' -rescaling:__choice__ 'min/max'\" --initial-challengers \" -balancing:strategy 'none' -classifier:__choice__ 'random_forest' -classifier:random_forest:bootstrap 'True' -classifier:random_forest:criterion 'gini' -classifier:random_forest:max_depth 'None' -classifier:random_forest:max_features '0.62203299707' -classifier:random_forest:max_leaf_nodes 'None' -classifier:random_forest:min_samples_leaf '6' -classifier:random_forest:min_samples_split '8' -classifier:random_forest:min_weight_fraction_leaf '0.0' -classifier:random_forest:n_estimators '100' -imputation:strategy 'mean' -one_hot_encoding:minimum_fraction '0.000159991240057' -one_hot_encoding:use_minimum_fraction 'True' -preprocessor:__choice__ 'feature_agglomeration' -preprocessor:feature_agglomeration:affinity 'cosine' -preprocessor:feature_agglomeration:linkage 'average' -preprocessor:feature_agglomeration:n_clusters '309' -preprocessor:feature_agglomeration:pooling_func 'mean' -rescaling:__choice__ 'min/max'\" --initial-challengers \" -balancing:strategy 'none' -classifier:__choice__ 'random_forest' -classifier:random_forest:bootstrap 'True' -classifier:random_forest:criterion 'gini' -classifier:random_forest:max_depth 'None' -classifier:random_forest:max_features '1.29449316402' -classifier:random_forest:max_leaf_nodes 'None' -classifier:random_forest:min_samples_leaf '11' -classifier:random_forest:min_samples_split '18' -classifier:random_forest:min_weight_fraction_leaf '0.0' -classifier:random_forest:n_estimators '100' -imputation:strategy 'mean' -one_hot_encoding:minimum_fraction '0.0010924728998' -one_hot_encoding:use_minimum_fraction 'True' -preprocessor:__choice__ 'feature_agglomeration' -preprocessor:feature_agglomeration:affinity 'cosine' -preprocessor:feature_agglomeration:linkage 'complete' -preprocessor:feature_agglomeration:n_clusters '385' -preprocessor:feature_agglomeration:pooling_func 'max' -rescaling:__choice__ 'min/max'\" --initial-challengers \" -balancing:strategy 'weighting' -classifier:__choice__ 'gradient_boosting' -classifier:gradient_boosting:learning_rate '0.190402882492' -classifier:gradient_boosting:loss 'deviance' -classifier:gradient_boosting:max_depth '1' -classifier:gradient_boosting:max_features '3.68508101592' -classifier:gradient_boosting:max_leaf_nodes 'None' -classifier:gradient_boosting:min_samples_leaf '10' -classifier:gradient_boosting:min_samples_split '18' -classifier:gradient_boosting:min_weight_fraction_leaf '0.0' -classifier:gradient_boosting:n_estimators '100' -classifier:gradient_boosting:subsample '0.840174275276' -imputation:strategy 'most_frequent' -one_hot_encoding:use_minimum_fraction 'False' -preprocessor:__choice__ 'no_preprocessing' -rescaling:__choice__ 'standardize'\" --initial-challengers \" -balancing:strategy 'none' -classifier:__choice__ 'gradient_boosting' -classifier:gradient_boosting:learning_rate '0.0357715082493' -classifier:gradient_boosting:loss 'deviance' -classifier:gradient_boosting:max_depth '4' -classifier:gradient_boosting:max_features '3.0536751778' -classifier:gradient_boosting:max_leaf_nodes 'None' -classifier:gradient_boosting:min_samples_leaf '18' -classifier:gradient_boosting:min_samples_split '8' -classifier:gradient_boosting:min_weight_fraction_leaf '0.0' -classifier:gradient_boosting:n_estimators '100' -classifier:gradient_boosting:subsample '0.848031972105' -imputation:strategy 'median' -one_hot_encoding:minimum_fraction '0.000766152550007' -one_hot_encoding:use_minimum_fraction 'True' -preprocessor:__choice__ 'liblinear_svc_preprocessor' -preprocessor:liblinear_svc_preprocessor:C '20.4632348488' -preprocessor:liblinear_svc_preprocessor:dual 'False' -preprocessor:liblinear_svc_preprocessor:fit_intercept 'True' -preprocessor:liblinear_svc_preprocessor:intercept_scaling '1' -preprocessor:liblinear_svc_preprocessor:loss 'squared_hinge' -preprocessor:liblinear_svc_preprocessor:multi_class 'ovr' -preprocessor:liblinear_svc_preprocessor:penalty 'l1' -preprocessor:liblinear_svc_preprocessor:tol '0.000120829930628' -rescaling:__choice__ 'none'\" --initial-challengers \" -balancing:strategy 'weighting' -classifier:__choice__ 'proj_logit' -classifier:proj_logit:max_epochs '3' -imputation:strategy 'most_frequent' -one_hot_encoding:use_minimum_fraction 'False' -preprocessor:__choice__ 'polynomial' -preprocessor:polynomial:degree '2' -preprocessor:polynomial:include_bias 'False' -preprocessor:polynomial:interaction_only 'False' -rescaling:__choice__ 'min/max'\" --initial-challengers \" -balancing:strategy 'weighting' -classifier:__choice__ 'extra_trees' -classifier:extra_trees:bootstrap 'False' -classifier:extra_trees:criterion 'entropy' -classifier:extra_trees:max_depth 'None' -classifier:extra_trees:max_features '1.71429054733' -classifier:extra_trees:min_samples_leaf '1' -classifier:extra_trees:min_samples_split '6' -classifier:extra_trees:min_weight_fraction_leaf '0.0' -classifier:extra_trees:n_estimators '100' -imputation:strategy 'median' -one_hot_encoding:minimum_fraction '0.00297257226834' -one_hot_encoding:use_minimum_fraction 'True' -preprocessor:__choice__ 'polynomial' -preprocessor:polynomial:degree '2' -preprocessor:polynomial:include_bias 'False' -preprocessor:polynomial:interaction_only 'True' -rescaling:__choice__ 'min/max'\" --initial-challengers \" -balancing:strategy 'none' -classifier:__choice__ 'liblinear_svc' -classifier:liblinear_svc:C '16.4458461126' -classifier:liblinear_svc:dual 'False' -classifier:liblinear_svc:fit_intercept 'True' -classifier:liblinear_svc:intercept_scaling '1' -classifier:liblinear_svc:loss 'squared_hinge' -classifier:liblinear_svc:multi_class 'ovr' -classifier:liblinear_svc:penalty 'l2' -classifier:liblinear_svc:tol '5.03198739725e-05' -imputation:strategy 'mean' -one_hot_encoding:minimum_fraction '0.018681895367' -one_hot_encoding:use_minimum_fraction 'True' -preprocessor:__choice__ 'nystroem_sampler' -preprocessor:nystroem_sampler:gamma '0.278115771271' -preprocessor:nystroem_sampler:kernel 'rbf' -preprocessor:nystroem_sampler:n_components '8238' -rescaling:__choice__ 'none'\" --initial-challengers \" -balancing:strategy 'weighting' -classifier:__choice__ 'gradient_boosting' -classifier:gradient_boosting:learning_rate '0.250449093686' -classifier:gradient_boosting:loss 'deviance' -classifier:gradient_boosting:max_depth '4' -classifier:gradient_boosting:max_features '3.01322770006' -classifier:gradient_boosting:max_leaf_nodes 'None' -classifier:gradient_boosting:min_samples_leaf '5' -classifier:gradient_boosting:min_samples_split '10' -classifier:gradient_boosting:min_weight_fraction_leaf '0.0' -classifier:gradient_boosting:n_estimators '100' -classifier:gradient_boosting:subsample '0.735717575373' -imputation:strategy 'most_frequent' -one_hot_encoding:minimum_fraction '0.278160654679' -one_hot_encoding:use_minimum_fraction 'True' -preprocessor:__choice__ 'select_rates' -preprocessor:select_rates:alpha '0.0507415761243' -preprocessor:select_rates:mode 'fpr' -preprocessor:select_rates:score_func 'f_classif' -rescaling:__choice__ 'min/max'\" --initial-challengers \" -balancing:strategy 'none' -classifier:__choice__ 'sgd' -classifier:sgd:alpha '0.000201120887834' -classifier:sgd:average 'False' -classifier:sgd:eta0 '0.0812309539679' -classifier:sgd:fit_intercept 'True' -classifier:sgd:l1_ratio '0.497569240077' -classifier:sgd:learning_rate 'invscaling' -classifier:sgd:loss 'hinge' -classifier:sgd:n_iter '554' -classifier:sgd:penalty 'elasticnet' -classifier:sgd:power_t '0.256792358048' -imputation:strategy 'most_frequent' -one_hot_encoding:minimum_fraction '0.000791509293971' -one_hot_encoding:use_minimum_fraction 'True' -preprocessor:__choice__ 'nystroem_sampler' -preprocessor:nystroem_sampler:coef0 '-0.638404615169' -preprocessor:nystroem_sampler:degree '3' -preprocessor:nystroem_sampler:gamma '0.22795987797' -preprocessor:nystroem_sampler:kernel 'poly' -preprocessor:nystroem_sampler:n_components '3207' -rescaling:__choice__ 'none'\" --initial-challengers \" -balancing:strategy 'weighting' -classifier:__choice__ 'adaboost' -classifier:adaboost:algorithm 'SAMME' -classifier:adaboost:learning_rate '0.0892186193774' -classifier:adaboost:max_depth '8' -classifier:adaboost:n_estimators '473' -imputation:strategy 'median' -one_hot_encoding:use_minimum_fraction 'False' -preprocessor:__choice__ 'polynomial' -preprocessor:polynomial:degree '2' -preprocessor:polynomial:include_bias 'True' -preprocessor:polynomial:interaction_only 'True' -rescaling:__choice__ 'standardize'\"\n",
      "[INFO] [2015-11-24 03:05:23,916:AutoML(1):894685adab9c31371fb5e315b3713987] Start Ensemble with 3595.79sec time left\n",
      "[INFO] [2015-11-24 03:05:23,917:autosklearn.util.submit_process] Calling: runsolver --watcher-data /dev/null -W 3595 -d 5 python -m autosklearn.ensemble_selection_script --auto-sklearn-tmp-directory /tmp/autosklearn_tmp_1909_1535 --basename 894685adab9c31371fb5e315b3713987 --task multiclass.classification --metric acc_metric --limit 3590.78656197 --output-directory /tmp/autosklearn_output_1909_1535 --ensemble-size 50 --ensemble-nbest 50 --auto-sklearn-seed 1 --max-iterations -1\n"
     ]
    },
    {
     "name": "stderr",
     "output_type": "stream",
     "text": [
      "/home/cole/anaconda2/lib/python2.7/site-packages/numpy/lib/nanfunctions.py:1136: RuntimeWarning: Degrees of freedom <= 0 for slice.\n",
      "  warnings.warn(\"Degrees of freedom <= 0 for slice.\", RuntimeWarning)\n",
      "/home/cole/anaconda2/lib/python2.7/site-packages/numpy/lib/nanfunctions.py:675: RuntimeWarning: Mean of empty slice\n",
      "  warnings.warn(\"Mean of empty slice\", RuntimeWarning)\n"
     ]
    },
    {
     "data": {
      "text/plain": [
       "<AutoSklearnClassifier(AutoSklearnClassifier-1, initial)>"
      ]
     },
     "execution_count": 7,
     "metadata": {},
     "output_type": "execute_result"
    }
   ],
   "source": [
    "automl.fit(X_pca, Ytrain)"
   ]
  },
  {
   "cell_type": "code",
   "execution_count": 8,
   "metadata": {
    "collapsed": true
   },
   "outputs": [],
   "source": [
    "# Get the test data\n",
    "testX = testData.get('Xtest')\n",
    "# Use PCA on the test set\n",
    "testX = preprocessing.StandardScaler(copy=True, with_mean=True, with_std=True).fit_transform(testX)\n",
    "testNew =  combined_features.transform(testX)"
   ]
  },
  {
   "cell_type": "code",
   "execution_count": 9,
   "metadata": {
    "collapsed": false
   },
   "outputs": [],
   "source": [
    "# Get the results from the classifier\n",
    "testY = automl.predict( testNew )"
   ]
  },
  {
   "cell_type": "code",
   "execution_count": 10,
   "metadata": {
    "collapsed": false
   },
   "outputs": [],
   "source": [
    "# Get zero or one probabilities\n",
    "new = np.zeros((1001,3))\n",
    "\n",
    "for i in xrange(0, 1001):\n",
    "    if( testY[i,0] == max(testY[i,:])):\n",
    "        new[i,:] = [1.0000, 0.0000, 0.0000]\n",
    "    elif( testY[i,1] == max(testY[i,:])):\n",
    "        new[i,:] = [0.0000, 1.0000, 0.0000]\n",
    "    else:\n",
    "        new[i,:] = [0.0000, 0.0000, 1.0000]"
   ]
  },
  {
   "cell_type": "code",
   "execution_count": 12,
   "metadata": {
    "collapsed": true
   },
   "outputs": [],
   "source": [
    "# Put into a csv file\n",
    "np.savetxt('prediction.csv', new, delimiter=\",\")"
   ]
  },
  {
   "cell_type": "code",
   "execution_count": null,
   "metadata": {
    "collapsed": true
   },
   "outputs": [],
   "source": []
  }
 ],
 "metadata": {
  "kernelspec": {
   "display_name": "Python 2",
   "language": "python",
   "name": "python2"
  },
  "language_info": {
   "codemirror_mode": {
    "name": "ipython",
    "version": 2
   },
   "file_extension": ".py",
   "mimetype": "text/x-python",
   "name": "python",
   "nbconvert_exporter": "python",
   "pygments_lexer": "ipython2",
   "version": "2.7.10"
  }
 },
 "nbformat": 4,
 "nbformat_minor": 0
}
