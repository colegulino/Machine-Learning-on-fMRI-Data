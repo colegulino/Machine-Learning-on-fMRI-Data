{
 "cells": [
  {
   "cell_type": "code",
   "execution_count": 1,
   "metadata": {
    "collapsed": true
   },
   "outputs": [],
   "source": [
    "# import\n",
    "import numpy as np\n",
    "import scipy.io as sio\n",
    "from sklearn import decomposition\n",
    "from sklearn.svm import SVC\n",
    "from sklearn import linear_model\n",
    "from sklearn import preprocessing\n",
    "from sklearn.pipeline import FeatureUnion\n",
    "from sklearn import cross_validation\n",
    "from sklearn.naive_bayes import  GaussianNB\n",
    "from sklearn.feature_selection import SelectKBest, f_classif, SelectPercentile\n",
    "from skimage import filters\n",
    "import math"
   ]
  },
  {
   "cell_type": "code",
   "execution_count": 30,
   "metadata": {
    "collapsed": false
   },
   "outputs": [],
   "source": [
    "# Get distance\n",
    "def dist(x1, y1, z1, x2, y2, z2):\n",
    "    return math.sqrt(pow(x1-x2,2)+pow(y1-y2,2)+pow(z1-z2,2))\n",
    "# Do Spatial Smoothing on data\n",
    "def spatialSmoothing(X, x, y, z, gamma, sigma):\n",
    "    # loop through the collumns of the data for each row\n",
    "    newX = X\n",
    "    for i in range(0, 501): # Do the rows\n",
    "        for j in range(0, 5903):\n",
    "            trans = []\n",
    "            # insert the current voxel into both lists\n",
    "            trans.append(X[i,j])\n",
    "            x1 = x[j]\n",
    "            y1 = y[j]\n",
    "            z1 = z[j]\n",
    "            distList = []\n",
    "            distList.append(0)\n",
    "            for k in range(0, 5903):\n",
    "                x2 = x[k]\n",
    "                y2 = y[k]\n",
    "                z2 = z[k]\n",
    "                # Decide if the x,y,z components of the thing is close enough\n",
    "                if(k != j and abs(dist(x1,y1,z1,x2,y2,z2)) <= gamma):\n",
    "                    trans.append(X[i,k])\n",
    "                    distList.append(dist(x1,y1,z1,x2,y2,z2))\n",
    "            if( len(trans) > 1 ):\n",
    "                # Replace current\n",
    "                newX[i,j] = sum(trans)/len(trans)\n",
    "    return newX"
   ]
  },
  {
   "cell_type": "code",
   "execution_count": 31,
   "metadata": {
    "collapsed": true
   },
   "outputs": [],
   "source": [
    "# Import the data\n",
    "trainData = sio.loadmat('Train.mat')\n",
    "testData = sio.loadmat('Test.mat')\n",
    "\n",
    "# Get the values of the train data\n",
    "Xtrain = trainData.get('Xtrain')\n",
    "Ytrain = trainData.get('Ytrain')\n",
    "eventsTrain = trainData.get('eventsTrain')\n",
    "subjectsTrain = trainData.get('subjectsTrain')\n",
    "x = trainData.get('x')\n",
    "y = trainData.get('y')\n",
    "z = trainData.get('z')\n",
    "\n",
    "# Get the values of the test data\n",
    "# Get the test data into a numpy array\n",
    "testX = testData.get('Xtest')\n",
    "eventsTest = testData.get('eventsTest')\n",
    "subjectsTest = testData.get('subjectsTest')\n",
    "testX = np.array( testX, np.float32)"
   ]
  },
  {
   "cell_type": "code",
   "execution_count": null,
   "metadata": {
    "collapsed": false
   },
   "outputs": [],
   "source": [
    "# Run the smoothing on the training set\n",
    "Xsmooth = spatialSmoothing(Xtrain, x, y, z, 1, 1)"
   ]
  },
  {
   "cell_type": "code",
   "execution_count": null,
   "metadata": {
    "collapsed": true
   },
   "outputs": [],
   "source": [
    "# Run the smoothing on the test set \n",
    "testSmooth = spatialSmoothing(testX, x, y, z, 1, 1)"
   ]
  }
 ],
 "metadata": {
  "kernelspec": {
   "display_name": "Python 3",
   "language": "python",
   "name": "python3"
  },
  "language_info": {
   "codemirror_mode": {
    "name": "ipython",
    "version": 3
   },
   "file_extension": ".py",
   "mimetype": "text/x-python",
   "name": "python",
   "nbconvert_exporter": "python",
   "pygments_lexer": "ipython3",
   "version": "3.5.0"
  }
 },
 "nbformat": 4,
 "nbformat_minor": 0
}
