{
 "cells": [
  {
   "cell_type": "code",
   "execution_count": 1,
   "metadata": {
    "collapsed": true
   },
   "outputs": [],
   "source": [
    "# Imports\n",
    "import numpy as np\n",
    "import scipy.io as sio\n",
    "from sklearn import decomposition\n",
    "from sklearn.svm import SVC\n",
    "from sklearn import linear_model\n",
    "from sklearn import preprocessing\n",
    "from sklearn.pipeline import FeatureUnion\n",
    "from sklearn import cross_validation\n",
    "from sklearn.naive_bayes import  GaussianNB\n",
    "from sklearn.feature_selection import SelectKBest, f_classif, SelectPercentile"
   ]
  },
  {
   "cell_type": "code",
   "execution_count": 3,
   "metadata": {
    "collapsed": false
   },
   "outputs": [],
   "source": [
    "# Import the data\n",
    "trainData = sio.loadmat('Train.mat')\n",
    "testData = sio.loadmat('Test.mat')\n",
    "\n",
    "# Get the values of the train data\n",
    "Xtrain = trainData.get('Xtrain')\n",
    "Ytrain = trainData.get('Ytrain')\n",
    "eventsTrain = trainData.get('eventsTrain')\n",
    "subjectsTrain = trainData.get('subjectsTrain')\n",
    "x = trainData.get('x')\n",
    "y = trainData.get('y')\n",
    "z = trainData.get('z')\n",
    "\n",
    "# Get the values of the test data\n",
    "# Get the test data into a numpy array\n",
    "testX = testData.get('Xtest')\n",
    "eventsTest = testData.get('eventsTest')\n",
    "subjectsTest = testData.get('subjectsTest')\n",
    "testX = np.array( testX, np.float32)"
   ]
  },
  {
   "cell_type": "code",
   "execution_count": 5,
   "metadata": {
    "collapsed": false
   },
   "outputs": [
    {
     "name": "stdout",
     "output_type": "stream",
     "text": [
      "0.58313900945\n",
      "0.561354141657\n",
      "0.612825191615\n",
      "0.600935020162\n",
      "0.614591221104\n"
     ]
    }
   ],
   "source": [
    "# Setup Classifier\n",
    "clf = SVC(C = 10, cache_size=200, coef0=0.0, gamma = 0.0001,\n",
    "          degree=3, kernel='rbf', max_iter=-1,\n",
    "          probability=True,random_state=None, shrinking=True, \n",
    "          tol=0.0001, verbose=False)\n",
    "# Get component matrix\n",
    "comp = [100, 200, 300, 400, 500]\n",
    "# Run through multiple components\n",
    "for value in comp:\n",
    "    pca = decomposition.PCA(n_components=value)\n",
    "    Xscale = preprocessing.StandardScaler(copy=True, with_mean=True, with_std=True).fit_transform(Xtrain)\n",
    "    #pca.fit(Xtrain)\n",
    "    X_pca = pca.fit(Xtrain, np.ravel(Ytrain)).transform(Xscale)\n",
    "    clf.fit( X_pca, np.ravel(Ytrain))\n",
    "    # Run cross validation\n",
    "    scores = cross_validation.cross_val_score(clf, X_pca, np.ravel(Ytrain), cv=10)\n",
    "    print scores.mean()\n"
   ]
  },
  {
   "cell_type": "code",
   "execution_count": null,
   "metadata": {
    "collapsed": true
   },
   "outputs": [],
   "source": []
  }
 ],
 "metadata": {
  "kernelspec": {
   "display_name": "Python 2",
   "language": "python",
   "name": "python2"
  },
  "language_info": {
   "codemirror_mode": {
    "name": "ipython",
    "version": 2
   },
   "file_extension": ".py",
   "mimetype": "text/x-python",
   "name": "python",
   "nbconvert_exporter": "python",
   "pygments_lexer": "ipython2",
   "version": "2.7.10"
  }
 },
 "nbformat": 4,
 "nbformat_minor": 0
}
